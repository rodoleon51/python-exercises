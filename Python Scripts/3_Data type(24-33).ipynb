{
 "cells": [
  {
   "cell_type": "code",
   "execution_count": 1,
   "id": "89af5d90-ac3d-459f-b168-18f173aff697",
   "metadata": {},
   "outputs": [
    {
     "name": "stdout",
     "output_type": "stream",
     "text": [
      "# 24 = <class 'str'>\n"
     ]
    }
   ],
   "source": [
    "# 24. Convert value to string\n",
    "value = 10\n",
    "conv = str(value)\n",
    "print('# 24 =', type(conv))"
   ]
  },
  {
   "cell_type": "code",
   "execution_count": 2,
   "id": "d7031af0-e690-4b1f-8bf1-e23c8b87c452",
   "metadata": {},
   "outputs": [
    {
     "name": "stdout",
     "output_type": "stream",
     "text": [
      "# 25 = <class 'int'>\n"
     ]
    }
   ],
   "source": [
    "# 25. Convert print(type(conv))string to integer\n",
    "value = \"10\"\n",
    "conv = int(value)\n",
    "print('# 25 =', type(conv))"
   ]
  },
  {
   "cell_type": "code",
   "execution_count": 3,
   "id": "8163fc31-f91b-40d4-9435-1c068088e72b",
   "metadata": {},
   "outputs": [
    {
     "name": "stdout",
     "output_type": "stream",
     "text": [
      "# 26 = <class 'float'>\n"
     ]
    }
   ],
   "source": [
    "# 26 Convert value to floating-point number\n",
    "value = 10\n",
    "conv = float(value)\n",
    "print('# 26 =', type(conv))"
   ]
  },
  {
   "cell_type": "code",
   "execution_count": 4,
   "id": "de9f03e8-c24c-4926-aee0-52d7142f45fc",
   "metadata": {},
   "outputs": [
    {
     "name": "stdout",
     "output_type": "stream",
     "text": [
      "# 27 = <class 'list'>\n"
     ]
    }
   ],
   "source": [
    "# 27 Convert value to list\n",
    "value = \"Hello!\"\n",
    "conv = list(value)\n",
    "print('# 27 =', type(conv))"
   ]
  },
  {
   "cell_type": "code",
   "execution_count": 5,
   "id": "2e005328-cf5a-4c34-8ada-0421ac4d531d",
   "metadata": {},
   "outputs": [
    {
     "name": "stdout",
     "output_type": "stream",
     "text": [
      "# 28 = <class 'tuple'>\n"
     ]
    }
   ],
   "source": [
    "# 28 Convert value to tuple\n",
    "value = [1, 2, 3, 10, 20, 30]\n",
    "conv = tuple(value)\n",
    "print('# 28 =', type(conv))"
   ]
  },
  {
   "cell_type": "code",
   "execution_count": 6,
   "id": "6d9ddceb-1f00-489a-b9b9-096c35672474",
   "metadata": {},
   "outputs": [
    {
     "name": "stdout",
     "output_type": "stream",
     "text": [
      "# 29 = <class 'frozenset'>\n"
     ]
    }
   ],
   "source": [
    "# 29 Convert value to frozen set\n",
    "value = [1, 2, 3, 10, 20, 30]\n",
    "conv = frozenset(value)\n",
    "print('# 29 =', type(conv))"
   ]
  },
  {
   "cell_type": "code",
   "execution_count": 7,
   "id": "f27b06b8-7802-4842-b84a-5969530a79a5",
   "metadata": {},
   "outputs": [
    {
     "name": "stdout",
     "output_type": "stream",
     "text": [
      "# 30 = 0b1010\n"
     ]
    }
   ],
   "source": [
    "# 30 Convert value to binary\n",
    "value = 10\n",
    "conv = bin(value)\n",
    "print('# 30 =', conv)"
   ]
  },
  {
   "cell_type": "code",
   "execution_count": 8,
   "id": "e2571b60-c6b0-460f-91fe-457a46a5d63c",
   "metadata": {},
   "outputs": [
    {
     "name": "stdout",
     "output_type": "stream",
     "text": [
      "# 31 = 0xa\n"
     ]
    }
   ],
   "source": [
    "# 31 Convert value to hexadecimal\n",
    "value = 10\n",
    "conv = hex(value)\n",
    "print('# 31 =', conv)"
   ]
  },
  {
   "cell_type": "code",
   "execution_count": 9,
   "id": "3b2c44cb-c50f-4fc3-b561-67caa11d4991",
   "metadata": {},
   "outputs": [
    {
     "name": "stdout",
     "output_type": "stream",
     "text": [
      "# 32 = 10\n"
     ]
    }
   ],
   "source": [
    "# 32 Convert value from binary to decimal\n",
    "value = '0b1010'\n",
    "conv = int(value, 2)\n",
    "print('# 32 =', conv)"
   ]
  },
  {
   "cell_type": "code",
   "execution_count": 10,
   "id": "e3b65eca-6ba4-40ea-8185-6446c8f0b9de",
   "metadata": {},
   "outputs": [
    {
     "name": "stdout",
     "output_type": "stream",
     "text": [
      "# 33 = 10\n"
     ]
    }
   ],
   "source": [
    "# 33 Convert from hexadecimal to decimal\n",
    "value = '0xa'\n",
    "conv = int(value, 16)\n",
    "print('# 33 =', conv)"
   ]
  },
  {
   "cell_type": "code",
   "execution_count": null,
   "id": "9b5a6919-efff-4170-8fcd-e7f35bc10d72",
   "metadata": {},
   "outputs": [],
   "source": []
  }
 ],
 "metadata": {
  "kernelspec": {
   "display_name": "Python 3 (ipykernel)",
   "language": "python",
   "name": "python3"
  },
  "language_info": {
   "codemirror_mode": {
    "name": "ipython",
    "version": 3
   },
   "file_extension": ".py",
   "mimetype": "text/x-python",
   "name": "python",
   "nbconvert_exporter": "python",
   "pygments_lexer": "ipython3",
   "version": "3.10.13"
  }
 },
 "nbformat": 4,
 "nbformat_minor": 5
}
