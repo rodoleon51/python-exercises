{
 "cells": [
  {
   "cell_type": "code",
   "execution_count": 1,
   "id": "ec8f7eae-b4df-4f0e-a9d0-bbf68900c8e3",
   "metadata": {},
   "outputs": [],
   "source": [
    "x = \"The days of Python 2 are almost over. Python 3 is the king now.\""
   ]
  },
  {
   "cell_type": "code",
   "execution_count": 2,
   "id": "78568450-0ebb-4327-bb7b-87c9049f3c9c",
   "metadata": {},
   "outputs": [
    {
     "name": "stdout",
     "output_type": "stream",
     "text": [
      "# 34 = TRUE!\n"
     ]
    }
   ],
   "source": [
    "# 34. Print TRUE! if x >= 50 characters\n",
    "if len(x) >= 50:\n",
    "    print('# 34 =', \"TRUE!\")"
   ]
  },
  {
   "cell_type": "code",
   "execution_count": 3,
   "id": "274828d9-0653-43f3-a9e7-947cfca4679f",
   "metadata": {},
   "outputs": [
    {
     "name": "stdout",
     "output_type": "stream",
     "text": [
      "# 35 = TRUE!\n"
     ]
    }
   ],
   "source": [
    "# 35. Print TRUE! i f x is string and first charactrer is T\n",
    "if type(x) is str and x.startswith(\"T\"):\n",
    "    print('# 35 =', \"TRUE!\")"
   ]
  },
  {
   "cell_type": "code",
   "execution_count": 4,
   "id": "5d3b907e-8800-41c3-9113-744443a4ce96",
   "metadata": {},
   "outputs": [
    {
     "name": "stdout",
     "output_type": "stream",
     "text": [
      "# 36 = TRUE!\n"
     ]
    }
   ],
   "source": [
    "#36 Print TRUE! if z in x and y in x 2 or more times\n",
    "if \"z\" in x or x.count(\"y\") >= 2:\n",
    "    print('# 36 =', \"TRUE!\")"
   ]
  },
  {
   "cell_type": "code",
   "execution_count": 5,
   "id": "bee06b09-69ec-44b2-885c-61b06cdd475b",
   "metadata": {},
   "outputs": [
    {
     "name": "stdout",
     "output_type": "stream",
     "text": [
      "# 37 = FALSE!\n"
     ]
    }
   ],
   "source": [
    "#37 Print TRUE! if index of \"f\" < 10 else print FALSE!\n",
    "if x.index(\"f\") < 10:\n",
    "    print ('# 37 =', \"TRUE!\")\n",
    "else:\n",
    "    print('# 37 =', \"FALSE!\")"
   ]
  },
  {
   "cell_type": "code",
   "execution_count": 6,
   "id": "bb46f50f-a9e9-466c-b34a-5c29625df019",
   "metadata": {},
   "outputs": [
    {
     "name": "stdout",
     "output_type": "stream",
     "text": [
      "# 38 = FALSE!\n"
     ]
    }
   ],
   "source": [
    "# 38. Print TRUE! if 3 last characters are digits, False! otherwise\n",
    "if x[-3:].isdigit():\n",
    "    print ('# 38 =', \"TRUE!\")\n",
    "else:\n",
    "    print('# 38 =', \"FALSE!\")"
   ]
  },
  {
   "cell_type": "code",
   "execution_count": 7,
   "id": "7308fa98-0b1c-448d-b1f4-a6ef58aaafa6",
   "metadata": {},
   "outputs": [
    {
     "name": "stdout",
     "output_type": "stream",
     "text": [
      "# 38 = FALSE!\n"
     ]
    }
   ],
   "source": [
    " # 38. Print TRUE! if 3 last characters are digits, False! otherwise\n",
    "if x[-3:].isdigit():\n",
    "    print ('# 38 =', \"TRUE!\")\n",
    "else:\n",
    "    print('# 38 =', \"FALSE!\")"
   ]
  },
  {
   "cell_type": "code",
   "execution_count": 8,
   "id": "fba562cf-4357-4344-9692-58d6ffb044f3",
   "metadata": {},
   "outputs": [],
   "source": [
    "x = [115, 115.9, 116.01, [\"length\", \"width\", \"height\"], 109, 115, 119.5, [\"length\", \"width\", \"height\"]]"
   ]
  },
  {
   "cell_type": "code",
   "execution_count": 9,
   "id": "2ba2b2cd-c22f-49b4-a6f3-51a6ca134f24",
   "metadata": {},
   "outputs": [
    {
     "name": "stdout",
     "output_type": "stream",
     "text": [
      "# 39 = TRUE!\n"
     ]
    }
   ],
   "source": [
    " # 39. Print TRUE! if x >= 8 elements and index 6 is float, False! otherwise\n",
    "if len(x) >= 8 and type(x[6]) is float:\n",
    "    print ('# 39 =', \"TRUE!\")\n",
    "else:\n",
    "    print('# 39 =', \"FALSE!\")"
   ]
  },
  {
   "cell_type": "code",
   "execution_count": 10,
   "id": "e26b1a55-c244-4d3d-b46a-b9db962debe4",
   "metadata": {},
   "outputs": [
    {
     "name": "stdout",
     "output_type": "stream",
     "text": [
      "# 40 = TRUE!\n"
     ]
    }
   ],
   "source": [
    "# 40. \n",
    "if x[3][1].endswith(\"h\") and x[7][0].endswith(\"h\"):\n",
    "    print ('# 40 =', \"TRUE!\")\n",
    "else:\n",
    "    print('# 40 =', \"FALSE!\")"
   ]
  },
  {
   "cell_type": "code",
   "execution_count": 11,
   "id": "57dd162c-a57f-4723-a396-f0ad7b966c89",
   "metadata": {},
   "outputs": [
    {
     "name": "stdout",
     "output_type": "stream",
     "text": [
      "# 41 = TRUE!\n"
     ]
    }
   ],
   "source": [
    "# 41 \n",
    "if x[3][2].endswith(\"h\") or x[7][1].endswith(\"h\"):\n",
    "    print ('# 41 =', \"TRUE!\")\n",
    "else:\n",
    "    print('# 41 =', \"FALSE!\")"
   ]
  },
  {
   "cell_type": "code",
   "execution_count": 12,
   "id": "d407c1de-8e7b-40e0-a916-7752439294d8",
   "metadata": {},
   "outputs": [],
   "source": [
    "x = [115, 115.9, 116.01, 109, 115, 119.5, [\"length\", \"width\", \"height\"]]"
   ]
  },
  {
   "cell_type": "code",
   "execution_count": 13,
   "id": "ff53fc55-7c87-4a9b-b933-2b17d519aa94",
   "metadata": {},
   "outputs": [
    {
     "name": "stdout",
     "output_type": "stream",
     "text": [
      "# 42 = FALSE!\n"
     ]
    }
   ],
   "source": [
    "# 42 \n",
    "if max(x[0:3]) <= min(x[3:6]):\n",
    "    print ('# 42 =', \"TRUE!\")\n",
    "else:\n",
    "    print('# 42 =', \"FALSE!\")"
   ]
  },
  {
   "cell_type": "code",
   "execution_count": 14,
   "id": "b46a07d4-e81a-4798-9211-4b9a40663662",
   "metadata": {},
   "outputs": [
    {
     "name": "stdout",
     "output_type": "stream",
     "text": [
      "# 43 = TRUE!\n"
     ]
    }
   ],
   "source": [
    "# 43. Does 115 appear once or more\n",
    "if x.count(115) >= 1 or x.index(115) == 0:\n",
    "    print ('# 43 =', \"TRUE!\")\n",
    "else:\n",
    "    print('# 43 =', \"FALSE!\")"
   ]
  },
  {
   "cell_type": "code",
   "execution_count": 15,
   "id": "3adc68ad-ff8f-4b5d-8ad1-84bc0016f00e",
   "metadata": {},
   "outputs": [],
   "source": [
    "x = {1: \"Python\", 2: \"Java\", 3: \"Javascript\", 4: \"Ruby\", 5: \"Perl\", 6: \"C#\", 7: \"C++\"}"
   ]
  },
  {
   "cell_type": "code",
   "execution_count": 16,
   "id": "e6873140-8a00-4219-ae83-81a96ce86475",
   "metadata": {},
   "outputs": [
    {
     "name": "stdout",
     "output_type": "stream",
     "text": [
      "# 44 = TRUE!\n"
     ]
    }
   ],
   "source": [
    "# 44.\n",
    "if x[5] == \"Perl\" or len(x) % 5 < 2:\n",
    "    print ('# 44 =', \"TRUE!\")\n",
    "else:\n",
    "    print('# 44 =', \"FALSE!\")"
   ]
  },
  {
   "cell_type": "code",
   "execution_count": 17,
   "id": "84357b96-a38a-4714-bd79-c9695af7bdcc",
   "metadata": {},
   "outputs": [
    {
     "name": "stdout",
     "output_type": "stream",
     "text": [
      "# 45 = TRUE!\n"
     ]
    }
   ],
   "source": [
    "# 45\n",
    "if 3 in x and sorted(x.values())[0]== \"C#\":\n",
    "    print ('# 45 =', \"TRUE!\")\n",
    "else:\n",
    "    print('# 45 =', \"FALSE!\")"
   ]
  },
  {
   "cell_type": "code",
   "execution_count": 18,
   "id": "26343992-9ac6-4572-a16c-6761600a6391",
   "metadata": {},
   "outputs": [
    {
     "name": "stdout",
     "output_type": "stream",
     "text": [
      "# 46 = FALSE!\n"
     ]
    }
   ],
   "source": [
    "#46.\n",
    "if sorted(x.values())[-1][-1] == \"n\":   \n",
    "    print ('# 46 =', \"TRUE!\")\n",
    "else:\n",
    "    print('# 46 =', \"FALSE!\")"
   ]
  },
  {
   "cell_type": "code",
   "execution_count": 19,
   "id": "75a94d93-ac28-45bd-bcc0-636f9d9d3ccb",
   "metadata": {},
   "outputs": [
    {
     "name": "stdout",
     "output_type": "stream",
     "text": [
      "# 47 = TRUE!\n"
     ]
    }
   ],
   "source": [
    "#47.\n",
    "if sorted(x.keys())[-1] % sorted(x.keys())[-2] == sorted(x.keys())[0]:\n",
    "    print ('# 47 =', \"TRUE!\")\n",
    "else:\n",
    "    print('# 47 =', \"FALSE!\")\n"
   ]
  },
  {
   "cell_type": "code",
   "execution_count": 20,
   "id": "6311032b-1a7a-4c38-8692-2c22b312e14c",
   "metadata": {},
   "outputs": [
    {
     "name": "stdout",
     "output_type": "stream",
     "text": [
      "# 47 = FALSE!\n"
     ]
    }
   ],
   "source": [
    "# 48. \n",
    "if sum(x) < len(x[1] + x[2] + x[3] + x[4] + x[5]):\n",
    "    print ('# 47 =', \"TRUE!\")\n",
    "else:\n",
    "    print('# 47 =', \"FALSE!\")"
   ]
  },
  {
   "cell_type": "code",
   "execution_count": 21,
   "id": "7a255b9a-a691-4ca2-b930-320e2f5658e9",
   "metadata": {},
   "outputs": [],
   "source": [
    "x = [list(range(5)), list(range(5,9)), list(range(1,10,3))]"
   ]
  },
  {
   "cell_type": "code",
   "execution_count": 22,
   "id": "25a977bd-6361-4590-91be-fd9a8b8af108",
   "metadata": {},
   "outputs": [
    {
     "name": "stdout",
     "output_type": "stream",
     "text": [
      "# 49 = NONE!\n"
     ]
    }
   ],
   "source": [
    "# 49. \n",
    "if x[0][2] < 2:\n",
    "    print ('# 49 =', \"TRUE!\")\n",
    "else:\n",
    "    if x[0][4] == 5:\n",
    "        print('# 49 =', \"FALSE!\")\n",
    "    else:\n",
    "        print('# 49 =', \"NONE!\")"
   ]
  },
  {
   "cell_type": "code",
   "execution_count": 23,
   "id": "6e8742e1-7d9f-404a-aa2b-6731555083cf",
   "metadata": {},
   "outputs": [
    {
     "name": "stdout",
     "output_type": "stream",
     "text": [
      "# 50 = FALSE!\n"
     ]
    }
   ],
   "source": [
    "# 50.\n",
    "if x[2][2] < 6:\n",
    "    print('# 49 =', \"TRUE!\")\n",
    "else:\n",
    "    if x[1][0] == 5:\n",
    "        print('# 50 =', \"FALSE!\")\n",
    "    else:\n",
    "        print('# 50 =', \"NONE!\")"
   ]
  },
  {
   "cell_type": "code",
   "execution_count": 24,
   "id": "ab8f84b6-d154-4d77-85db-c5ab568c3f9b",
   "metadata": {},
   "outputs": [
    {
     "name": "stdout",
     "output_type": "stream",
     "text": [
      "# 51 = TRUE!\n"
     ]
    }
   ],
   "source": [
    "# 51.\n",
    "if x[0][-1] > 3:\n",
    "    print('# 51 =', \"TRUE!\")\n",
    "else:\n",
    "    if x[1][-1] < 9:\n",
    "        print('# 51 =', \"FALSE!\")\n",
    "    else:\n",
    "        print('# 51 =', \"NONE!\")"
   ]
  },
  {
   "cell_type": "code",
   "execution_count": 25,
   "id": "28b59d48-38cf-464b-ba4e-3ea06a856d93",
   "metadata": {},
   "outputs": [
    {
     "name": "stdout",
     "output_type": "stream",
     "text": [
      "# 52 = TRUE!\n"
     ]
    }
   ],
   "source": [
    "# 52.\n",
    "if len(x[0]) >= 5:\n",
    "    print('# 52 =', \"TRUE!\")\n",
    "else:\n",
    "    if len(x[1]) == 4:\n",
    "        print('# 52 =', \"FALSE!\")\n",
    "    else:\n",
    "        print('# 52 =', \"NONE!\")"
   ]
  },
  {
   "cell_type": "code",
   "execution_count": 26,
   "id": "fe3467a9-0008-4e99-8557-a029c565beac",
   "metadata": {},
   "outputs": [
    {
     "name": "stdout",
     "output_type": "stream",
     "text": [
      "# 53 = FALSE!\n"
     ]
    }
   ],
   "source": [
    "# 53\n",
    "if sum(x[0]) > sum(x[2]):\n",
    "    print('# 53 =', \"TRUE!\")\n",
    "else:\n",
    "    if max(x[1]) > max(x[2]):\n",
    "        print('# 53 =', \"FALSE!\")\n",
    "    else:\n",
    "        print('# 53 =', \"NONE!\")"
   ]
  },
  {
   "cell_type": "code",
   "execution_count": 28,
   "id": "43bb94ae-6385-4a7b-99aa-1622b79e7b72",
   "metadata": {},
   "outputs": [
    {
     "name": "stdout",
     "output_type": "stream",
     "text": [
      "# 54 = TRUE!\n"
     ]
    }
   ],
   "source": [
    "# 54.\n",
    "if max(x[0]) - x[2][1] == x[0][0]:\n",
    "    print('# 54 =', \"TRUE!\")\n",
    "else:\n",
    "    if len(x[0]) - len(x[1]) == x[2][0]:\n",
    "        print('# 54 =', \"FALSE!\")\n",
    "    else:\n",
    "        if sum(x[2]) % 2 == 0:\n",
    "            print('# 54 =', \"MAYBE!\")\n",
    "        else:\n",
    "             print('# 54 =', \"NONE!\")"
   ]
  },
  {
   "cell_type": "code",
   "execution_count": 29,
   "id": "27a93797-7d7d-4567-b40a-27e97e8722b2",
   "metadata": {},
   "outputs": [
    {
     "name": "stdout",
     "output_type": "stream",
     "text": [
      "# 55 = FALSE!\n"
     ]
    }
   ],
   "source": [
    "#55.\n",
    "if sum(x[0][-3:]) + sum(x[2][3:]) == sum(x[1][-3:]):\n",
    "    print('# 55 =', \"TRUE!\")\n",
    "else:\n",
    "    if len(x[0]) * 2 < sum(x[2]):\n",
    "        print('# 55 =', \"FALSE!\")"
   ]
  },
  {
   "cell_type": "code",
   "execution_count": 30,
   "id": "75baafa3-898a-4cd3-90fd-ce3509decadc",
   "metadata": {},
   "outputs": [],
   "source": [
    "x = {1: \"Python\", 2: \"Java\", 3: \"Javascript\", 4: \"Ruby\", 5: \"Perl\", 6: \"C#\", 7: \"C++\"}"
   ]
  },
  {
   "cell_type": "code",
   "execution_count": 31,
   "id": "0907be7f-5ecf-4949-93d8-795c6f06b5dc",
   "metadata": {},
   "outputs": [
    {
     "name": "stdout",
     "output_type": "stream",
     "text": [
      "# 56 = TRUE!\n"
     ]
    }
   ],
   "source": [
    "# 56.\n",
    "if x[1][1] in x[4]:\n",
    "    print('# 56 =', \"TRUE!\")\n",
    "else:\n",
    "    print('# 56 =', \"FALSE!\")"
   ]
  },
  {
   "cell_type": "code",
   "execution_count": 32,
   "id": "5891b1ab-7832-43bb-908a-039ffc4ccc65",
   "metadata": {},
   "outputs": [
    {
     "name": "stdout",
     "output_type": "stream",
     "text": [
      "# 57 = FALSE!\n"
     ]
    }
   ],
   "source": [
    "# 57.\n",
    "if x[3][-2] == x[5][0]:\n",
    "    print('# 57 =', \"TRUE!\")\n",
    "else:\n",
    "    print('# 57 =', \"FALSE!\")"
   ]
  },
  {
   "cell_type": "code",
   "execution_count": 33,
   "id": "a386a5e1-50ef-4974-a0fd-62afc0e3efa4",
   "metadata": {
    "tags": []
   },
   "outputs": [
    {
     "name": "stdout",
     "output_type": "stream",
     "text": [
      "# 58 = TRUE!\n"
     ]
    }
   ],
   "source": [
    "# 58.\n",
    "if len(min(x.values())) == x[3].count(\"a\"):\n",
    "    print('# 58 =', \"TRUE!\")\n",
    "else:\n",
    "    print('# 58 =', \"FALSE!\")"
   ]
  }
 ],
 "metadata": {
  "kernelspec": {
   "display_name": "Python 3 (ipykernel)",
   "language": "python",
   "name": "python3"
  },
  "language_info": {
   "codemirror_mode": {
    "name": "ipython",
    "version": 3
   },
   "file_extension": ".py",
   "mimetype": "text/x-python",
   "name": "python",
   "nbconvert_exporter": "python",
   "pygments_lexer": "ipython3",
   "version": "3.10.13"
  }
 },
 "nbformat": 4,
 "nbformat_minor": 5
}
