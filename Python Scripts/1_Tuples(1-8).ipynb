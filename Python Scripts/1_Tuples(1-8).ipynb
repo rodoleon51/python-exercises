{
 "cells": [
  {
   "cell_type": "code",
   "execution_count": 1,
   "id": "3885d5f3-2bf5-4ebf-af0b-724ab959b99f",
   "metadata": {
    "tags": []
   },
   "outputs": [
    {
     "name": "stdout",
     "output_type": "stream",
     "text": [
      "# 1 = [0, 1, 2, 3, 4, 5, 6, 7, 8, 9]\n"
     ]
    }
   ],
   "source": [
    "#1. Return a range of consecutive numbers from 0 to 9 inclusively. Use 1 argument.\n",
    "my_range = range(10)\n",
    "print(\"# 1 =\", list(my_range))"
   ]
  },
  {
   "cell_type": "code",
   "execution_count": 2,
   "id": "76908180-4794-4d26-b6b9-1e0122ef60f1",
   "metadata": {
    "tags": []
   },
   "outputs": [
    {
     "name": "stdout",
     "output_type": "stream",
     "text": [
      "# 2 = [0, 1, 2, 3, 4, 5, 6, 7, 8, 9]\n"
     ]
    }
   ],
   "source": [
    "#2.  Return a range of consecutive numbers from 0 to 9 inclusively. Use 2 arguments.\n",
    "my_range = range(0, 10)\n",
    "print(\"# 2 =\", list(my_range))"
   ]
  },
  {
   "cell_type": "code",
   "execution_count": 4,
   "id": "7230c425-f96e-424f-91dc-5235b6474678",
   "metadata": {
    "tags": []
   },
   "outputs": [
    {
     "name": "stdout",
     "output_type": "stream",
     "text": [
      "# 3 = [-75, -60, -45, -30]\n"
     ]
    }
   ],
   "source": [
    "#3. Return a range of consecutive numbers from 117 to 129 exclusively.\n",
    "my_range = range#6 Return [-75, -60, -45, -30] from (-75, -25)\n",
    "my_range = range(-75, -25, 15)\n",
    "print(\"# 3 =\", list(my_range))"
   ]
  },
  {
   "cell_type": "code",
   "execution_count": 5,
   "id": "178d63aa-e0b6-417a-a4a5-b640cde29a31",
   "metadata": {
    "tags": []
   },
   "outputs": [
    {
     "name": "stdout",
     "output_type": "stream",
     "text": [
      "# 4 = [10, 13, 16, 19]\n"
     ]
    }
   ],
   "source": [
    "#4. Return[10, 13, 16, 19] when converted to a list\n",
    "my_range = range(10, 20, 3)\n",
    "print(\"# 4 =\", list(my_range))"
   ]
  },
  {
   "cell_type": "code",
   "execution_count": 6,
   "id": "6c88a1f1-c757-4db2-af69-6335e3ace769",
   "metadata": {
    "tags": []
   },
   "outputs": [
    {
     "name": "stdout",
     "output_type": "stream",
     "text": [
      "# 5 = [115, 120]\n"
     ]
    }
   ],
   "source": [
    "#5 Return [115, 120] from [115, 125]\n",
    "my_range = range(115, 125, 5)\n",
    "print(\"# 5 =\", list(my_range))"
   ]
  },
  {
   "cell_type": "code",
   "execution_count": 7,
   "id": "e8958b4b-2030-4048-9643-07afe4ee74c3",
   "metadata": {
    "tags": []
   },
   "outputs": [
    {
     "name": "stdout",
     "output_type": "stream",
     "text": [
      "# 6 = [-75, -60, -45, -30]\n"
     ]
    }
   ],
   "source": [
    "#6 Return [-75, -60, -45, -30] from (-75, -25)\n",
    "my_range = range(-75, -25, 15)\n",
    "print(\"# 6 =\", list(my_range))"
   ]
  },
  {
   "cell_type": "code",
   "execution_count": 8,
   "id": "a2e2777f-87ad-4ace-9784-94e4c08affdf",
   "metadata": {
    "tags": []
   },
   "outputs": [
    {
     "name": "stdout",
     "output_type": "stream",
     "text": [
      "# 7 = [-25, 5, 35, 65, 95, 125]\n"
     ]
    }
   ],
   "source": [
    "#7 Return [-25, 5, 35, 65, 95, 125] from (-25, 139)\n",
    "my_range = range(-25, 139, 30)\n",
    "print(\"# 7 =\", list(my_range))"
   ]
  },
  {
   "cell_type": "code",
   "execution_count": 9,
   "id": "2eea3420-c373-4de4-8b02-1d636a02ef26",
   "metadata": {
    "tags": []
   },
   "outputs": [
    {
     "name": "stdout",
     "output_type": "stream",
     "text": [
      "# 8 = [-10]\n"
     ]
    }
   ],
   "source": [
    "#8 Return [-10]\n",
    "my_range = range(-10, -9)\n",
    "print(\"# 8 =\", list(my_range))"
   ]
  }
 ],
 "metadata": {
  "kernelspec": {
   "display_name": "Python 3 (ipykernel)",
   "language": "python",
   "name": "python3"
  },
  "language_info": {
   "codemirror_mode": {
    "name": "ipython",
    "version": 3
   },
   "file_extension": ".py",
   "mimetype": "text/x-python",
   "name": "python",
   "nbconvert_exporter": "python",
   "pygments_lexer": "ipython3",
   "version": "3.10.13"
  }
 },
 "nbformat": 4,
 "nbformat_minor": 5
}
