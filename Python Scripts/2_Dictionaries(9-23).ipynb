{
 "cells": [
  {
   "cell_type": "code",
   "execution_count": 2,
   "id": "f32eff49-5835-4a81-85b0-ac075020a848",
   "metadata": {},
   "outputs": [],
   "source": [
    "crypto = {1:\"Bitcoin\", 2:\"Ethereum\", 3:\"Litecoin\", 4:\"Stellar\", 5:\"XRP\"}"
   ]
  },
  {
   "cell_type": "code",
   "execution_count": 3,
   "id": "e8f9ddde-4fd3-4685-9b39-4922799d4e6f",
   "metadata": {},
   "outputs": [
    {
     "name": "stdout",
     "output_type": "stream",
     "text": [
      "#9 = Stellar\n"
     ]
    }
   ],
   "source": [
    "# 9. Return value of key 4\n",
    "value = crypto[4]\n",
    "print('#9 =', value)"
   ]
  },
  {
   "cell_type": "code",
   "execution_count": 4,
   "id": "cf129809-2f14-4c87-9c1e-1745cdd12588",
   "metadata": {},
   "outputs": [
    {
     "name": "stdout",
     "output_type": "stream",
     "text": [
      "# 10 = Stellar\n"
     ]
    }
   ],
   "source": [
    "# 10 Return value of key 4 with method\n",
    "value = crypto.get(4)\n",
    "print('# 10 =', value)"
   ]
  },
  {
   "cell_type": "code",
   "execution_count": 5,
   "id": "51ed24a4-d5d4-438f-9422-442cdbb0e3e0",
   "metadata": {},
   "outputs": [
    {
     "name": "stdout",
     "output_type": "stream",
     "text": [
      "# 11 = Cardano\n"
     ]
    }
   ],
   "source": [
    "# 11 Update the value on key 4 to \"Cardano\"\n",
    "crypto[4] = \"Cardano\"\n",
    "print('# 11 =', crypto[4])"
   ]
  },
  {
   "cell_type": "code",
   "execution_count": 6,
   "id": "c8376d28-d36c-40f3-b01d-e07838cc41de",
   "metadata": {},
   "outputs": [
    {
     "name": "stdout",
     "output_type": "stream",
     "text": [
      "# 12 = Monero\n"
     ]
    }
   ],
   "source": [
    "# 12 Add new key-value pair, 6:\"Monero\" to crypto.\n",
    "crypto[6] = \"Monero\"\n",
    "print('# 12 =', crypto[6])\n"
   ]
  },
  {
   "cell_type": "code",
   "execution_count": 7,
   "id": "10a801d0-6e7f-4836-87d1-3c0a3b57b49c",
   "metadata": {},
   "outputs": [
    {
     "name": "stdout",
     "output_type": "stream",
     "text": [
      "#13 = 6\n"
     ]
    }
   ],
   "source": [
    "# 13 Return the number of key-value pairs  in crypto\n",
    "number = len(crypto)\n",
    "print('#13 =', number)\n"
   ]
  },
  {
   "cell_type": "code",
   "execution_count": 8,
   "id": "8b1d299b-ee94-4b71-b4e4-66f353f5d6b2",
   "metadata": {},
   "outputs": [
    {
     "name": "stdout",
     "output_type": "stream",
     "text": [
      "#14 = {1: 'Bitcoin', 2: 'Ethereum', 4: 'Cardano', 5: 'XRP', 6: 'Monero'}\n"
     ]
    }
   ],
   "source": [
    "# 14 Delete value on key 3\n",
    "del crypto[3]\n",
    "print('#14 =', crypto)\n"
   ]
  },
  {
   "cell_type": "code",
   "execution_count": 9,
   "id": "5f55672d-47c9-439d-bfa3-b75b3a5e3aa5",
   "metadata": {},
   "outputs": [
    {
     "name": "stdout",
     "output_type": "stream",
     "text": [
      "#15 = {1: 'Bitcoin', 2: 'Ethereum', 4: 'Stellar', 5: 'XRP'}\n"
     ]
    }
   ],
   "source": [
    "# 15 Delete value on key 3 with method\n",
    "crypto = {1:\"Bitcoin\", 2:\"Ethereum\", 3:\"Litecoin\", 4:\"Stellar\", 5:\"XRP\"}\n",
    "crypto.pop(3)\n",
    "print('#15 =', crypto)"
   ]
  },
  {
   "cell_type": "code",
   "execution_count": 10,
   "id": "c11a4c3b-21d3-4ffd-bd97-c1f6a9d29222",
   "metadata": {},
   "outputs": [
    {
     "name": "stdout",
     "output_type": "stream",
     "text": [
      "# 16 = True\n"
     ]
    }
   ],
   "source": [
    "# 16 Verify that code 7 is not in crypto\n",
    "crypto = {1:\"Bitcoin\", 2:\"Ethereum\", 3:\"Litecoin\", 4:\"Stellar\", 5:\"XRP\"}\n",
    "check = 7 not in crypto\n",
    "print('# 16 =', check)"
   ]
  },
  {
   "cell_type": "code",
   "execution_count": 11,
   "id": "8d27ac1e-694c-4ef1-94fe-7c6f8cd1a934",
   "metadata": {},
   "outputs": [
    {
     "name": "stdout",
     "output_type": "stream",
     "text": [
      "# 17 = {}\n"
     ]
    }
   ],
   "source": [
    "# 17 Delete all elements in dictionary\n",
    "crypto.clear()\n",
    "print('# 17 =', crypto)"
   ]
  },
  {
   "cell_type": "code",
   "execution_count": 12,
   "id": "1ed3a594-5196-4c5c-9673-b102aca03785",
   "metadata": {},
   "outputs": [
    {
     "name": "stdout",
     "output_type": "stream",
     "text": [
      "# 18 = [(1, 'Bitcoin'), (2, 'Ethereum'), (3, 'Litecoin'), (4, 'Stellar'), (5, 'XRP')]\n"
     ]
    }
   ],
   "source": [
    "# 18 Covert a dictionary to list\n",
    "crypto = {1:\"Bitcoin\", 2:\"Ethereum\", 3:\"Litecoin\", 4:\"Stellar\", 5:\"XRP\"}\n",
    "result = crypto.items()\n",
    "print('# 18 =', list(result))"
   ]
  },
  {
   "cell_type": "code",
   "execution_count": 13,
   "id": "2942fd49-d096-4e97-8db8-2158d4d3378d",
   "metadata": {},
   "outputs": [
    {
     "name": "stdout",
     "output_type": "stream",
     "text": [
      "# 19A = 15\n",
      "# 19B = 15\n"
     ]
    }
   ],
   "source": [
    "# 19 Sum the keys in the dictionary\n",
    "#A)\n",
    "add = sum(crypto.keys())\n",
    "print('# 19A =', add)\n",
    "#B)\n",
    "add = sum(crypto)\n",
    "print('# 19B =', add)"
   ]
  },
  {
   "cell_type": "code",
   "execution_count": 14,
   "id": "763e6bb4-aa01-4da1-977c-c6ef1e47b824",
   "metadata": {},
   "outputs": [
    {
     "name": "stdout",
     "output_type": "stream",
     "text": [
      "# 20 = ['Bitcoin', 'Ethereum', 'Litecoin', 'Stellar', 'XRP']\n"
     ]
    }
   ],
   "source": [
    "# 20 Get a list of the values\n",
    "values = crypto.values()\n",
    "print('# 20 =', list(values))"
   ]
  },
  {
   "cell_type": "code",
   "execution_count": 15,
   "id": "c4028bba-37a3-4102-95cb-fbcae92d451c",
   "metadata": {},
   "outputs": [
    {
     "name": "stdout",
     "output_type": "stream",
     "text": [
      "# 21 = 1\n"
     ]
    }
   ],
   "source": [
    "# 21 Get smallest key \n",
    "key = min(crypto)\n",
    "print('# 21 =', key)"
   ]
  },
  {
   "cell_type": "code",
   "execution_count": 16,
   "id": "9272bd4f-c690-411b-8ebd-642865c40ab2",
   "metadata": {},
   "outputs": [
    {
     "name": "stdout",
     "output_type": "stream",
     "text": [
      "# 22 = [1, 2, 3, 4, 5]\n"
     ]
    }
   ],
   "source": [
    "# 22 Get list of keys\n",
    "keys = crypto.keys()\n",
    "print('# 22 =', list(keys))"
   ]
  },
  {
   "cell_type": "code",
   "execution_count": 17,
   "id": "eb927c56-4776-4507-b7c7-326762e4cf21",
   "metadata": {
    "tags": []
   },
   "outputs": [
    {
     "name": "stdout",
     "output_type": "stream",
     "text": [
      "# 23 = {1: 'Bitcoin', 2: 'Ethereum', 3: 'Litecoin', 5: 'XRP'}\n"
     ]
    }
   ],
   "source": [
    "# 23 Remove a key-value pair\n",
    "del crypto[4]\n",
    "print('# 23 =', crypto)"
   ]
  },
  {
   "cell_type": "code",
   "execution_count": null,
   "id": "df797de9-fe35-4e05-9e6f-231bc51b49b4",
   "metadata": {},
   "outputs": [],
   "source": []
  }
 ],
 "metadata": {
  "kernelspec": {
   "display_name": "Python 3 (ipykernel)",
   "language": "python",
   "name": "python3"
  },
  "language_info": {
   "codemirror_mode": {
    "name": "ipython",
    "version": 3
   },
   "file_extension": ".py",
   "mimetype": "text/x-python",
   "name": "python",
   "nbconvert_exporter": "python",
   "pygments_lexer": "ipython3",
   "version": "3.10.13"
  }
 },
 "nbformat": 4,
 "nbformat_minor": 5
}
