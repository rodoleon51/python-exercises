{
 "cells": [
  {
   "cell_type": "code",
   "execution_count": 1,
   "id": "03cfdf65-8453-409d-99f3-4cf433b9feb0",
   "metadata": {},
   "outputs": [
    {
     "name": "stdout",
     "output_type": "stream",
     "text": [
      "\n",
      "Exercise # 84\n",
      "20 200 \n"
     ]
    }
   ],
   "source": [
    "#84.\n",
    "print(\"\\nExercise # 84\")\n",
    "x = [1,2]\n",
    "y = [10, 100]\n",
    "for i in x:  \n",
    "    for j in y:\n",
    "        if i % 2 == 0:\n",
    "            print(i*j, end = \" \")\n",
    "print()"
   ]
  },
  {
   "cell_type": "code",
   "execution_count": 2,
   "id": "0a130e3b-73a4-425b-b78e-aa4ab58feb4b",
   "metadata": {},
   "outputs": [
    {
     "name": "stdout",
     "output_type": "stream",
     "text": [
      "\n",
      "Exercise # 85\n",
      "20 200 \n"
     ]
    }
   ],
   "source": [
    "# 85.\n",
    "print(\"\\nExercise # 85\")\n",
    "x = [1,2]\n",
    "y = [10, 100]\n",
    "for i in x:  \n",
    "    for j in y:\n",
    "        if i % 2 == 0:\n",
    "            print(i*j, end = \" \")\n",
    "print()"
   ]
  },
  {
   "cell_type": "code",
   "execution_count": 3,
   "id": "dd6b1938-b725-4137-9abe-7214b0c5da23",
   "metadata": {},
   "outputs": [
    {
     "name": "stdout",
     "output_type": "stream",
     "text": [
      "\n",
      "Exercise # 86\n",
      "200 200 \n"
     ]
    }
   ],
   "source": [
    "# 86.\n",
    "print(\"\\nExercise # 86\")\n",
    "x = [1,2]\n",
    "y = [10, 100]\n",
    "for i in x:  \n",
    "    for j in y:\n",
    "        if i % 2 == 0:\n",
    "            print(x[1] * y[1], end = \" \")\n",
    "print()    "
   ]
  },
  {
   "cell_type": "code",
   "execution_count": 4,
   "id": "9e338c68-f17b-49fd-8df0-99dd21efb82a",
   "metadata": {},
   "outputs": [
    {
     "name": "stdout",
     "output_type": "stream",
     "text": [
      "\n",
      "Exercise # 87\n",
      "Zero!\n",
      "\n"
     ]
    }
   ],
   "source": [
    "# 87.\n",
    "print(\"\\nExercise # 87\")\n",
    "try: \n",
    "    print(25 % 0)\n",
    "except ZeroDivisionError:\n",
    "    print(\"Zero!\")\n",
    "print()"
   ]
  },
  {
   "cell_type": "code",
   "execution_count": 5,
   "id": "cf27d1f7-cd75-4b7f-82ca-e90c79fe1e37",
   "metadata": {},
   "outputs": [
    {
     "name": "stdout",
     "output_type": "stream",
     "text": [
      "\n",
      "Exercise # 88\n",
      "30\n",
      "Clean!\n",
      "\n"
     ]
    }
   ],
   "source": [
    "# 88.\n",
    "print(\"\\nExercise # 88\")\n",
    "try: \n",
    "    print(25 % 5 ** 5 + 5)\n",
    "except: \n",
    "    print(\"Bug!\", end = \" \")\n",
    "else:\n",
    "    print(\"Clean!\")\n",
    "print()"
   ]
  },
  {
   "cell_type": "code",
   "execution_count": 6,
   "id": "13076e5f-1972-49d4-b5db-cddc46e9e9f9",
   "metadata": {},
   "outputs": [
    {
     "name": "stdout",
     "output_type": "stream",
     "text": [
      "\n",
      "Exercise # 89\n",
      "Bug! \n"
     ]
    }
   ],
   "source": [
    "# 89.\n",
    "print(\"\\nExercise # 89\")\n",
    "try: \n",
    "    print(25 % 0 ** 5 + 5)\n",
    "except: \n",
    "    print(\"Bug!\", end = \" \")\n",
    "else:\n",
    "    print(\"Clean!\")\n",
    "print()"
   ]
  },
  {
   "cell_type": "code",
   "execution_count": 7,
   "id": "3e80e846-2243-4694-9e58-ebbdafcdc323",
   "metadata": {},
   "outputs": [
    {
     "name": "stdout",
     "output_type": "stream",
     "text": [
      "\n",
      "Exercise # 90\n",
      "Index!\n",
      "\n"
     ]
    }
   ],
   "source": [
    "# 90. \n",
    "print(\"\\nExercise # 90\")\n",
    "x = [1,9,17,32]\n",
    "try:\n",
    "    print(x[3]%3**5 + x[4])\n",
    "except ZeroDivisionError:\n",
    "    print(\"Zero!\")\n",
    "except IndexError:\n",
    "    print(\"Index!\")\n",
    "print()"
   ]
  },
  {
   "cell_type": "code",
   "execution_count": 8,
   "id": "9211de90-2241-4e8d-80c1-b84410ba0aba",
   "metadata": {
    "tags": []
   },
   "outputs": [
    {
     "name": "stdout",
     "output_type": "stream",
     "text": [
      "\n",
      "Exercise # 91\n",
      "30\n",
      "Clean!\n",
      "Finish!\n"
     ]
    }
   ],
   "source": [
    "# 91\n",
    "print(\"\\nExercise # 91\")\n",
    "try: \n",
    "    print(25 % 5 ** 5 + 5)\n",
    "except ZeroDivisionError:\n",
    "    print (\"Zero!\")\n",
    "else:\n",
    "    print(\"Clean!\")\n",
    "finally:\n",
    "    print(\"Finish!\")"
   ]
  }
 ],
 "metadata": {
  "kernelspec": {
   "display_name": "Python 3 (ipykernel)",
   "language": "python",
   "name": "python3"
  },
  "language_info": {
   "codemirror_mode": {
    "name": "ipython",
    "version": 3
   },
   "file_extension": ".py",
   "mimetype": "text/x-python",
   "name": "python",
   "nbconvert_exporter": "python",
   "pygments_lexer": "ipython3",
   "version": "3.10.13"
  }
 },
 "nbformat": 4,
 "nbformat_minor": 5
}
