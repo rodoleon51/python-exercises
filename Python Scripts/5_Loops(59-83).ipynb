{
 "cells": [
  {
   "cell_type": "code",
   "execution_count": null,
   "id": "b94b92ca-ae60-45a2-803e-d3875e3759ef",
   "metadata": {},
   "outputs": [],
   "source": []
  },
  {
   "cell_type": "code",
   "execution_count": null,
   "id": "7225a2bd-cd3b-4230-b0d3-d433c5f42f32",
   "metadata": {},
   "outputs": [],
   "source": []
  },
  {
   "cell_type": "code",
   "execution_count": null,
   "id": "97fb3f6e-9359-4d67-a2d8-677cfe8c9224",
   "metadata": {},
   "outputs": [],
   "source": [
    "# 80. Insert break\n",
    "print(\"\\nExercise # 80\")\n",
    "x = [1,2]\n",
    "y = [10, 100]\n",
    "for i in x:  \n",
    "    for j in y:\n",
    "        if i % 2 == 0:\n",
    "            print(i * j)\n",
    "            break\n",
    "        print(\"i = \",i)\n",
    "    print(\"j = \", j, end = \" \")"
   ]
  },
  {
   "cell_type": "code",
   "execution_count": null,
   "id": "5c21cc11-3088-422d-a287-f690eb090f82",
   "metadata": {},
   "outputs": [],
   "source": []
  },
  {
   "cell_type": "code",
   "execution_count": null,
   "id": "250d1b36-33fd-46cf-904f-cf0de9c1e188",
   "metadata": {},
   "outputs": [],
   "source": [
    "# 82. Insert continue\n",
    "print(\"\\nExercise # 82\")\n",
    "x = [1,2]\n",
    "y = [10, 100]\n",
    "for i in x:  \n",
    "    for j in y:\n",
    "        if i % 2 == 0:     \n",
    "            print(i * j)\n",
    "            continue\n",
    "        print(\"i = \",i)\n",
    "    print(\"j = \", j)"
   ]
  },
  {
   "cell_type": "code",
   "execution_count": null,
   "id": "383dde53-1ce6-4345-a776-eebaa1986f11",
   "metadata": {},
   "outputs": [],
   "source": [
    "# 83. Insert continue\n",
    "print(\"\\nExercise # 83\")\n",
    "x = [1,2]\n",
    "y = [10, 100]\n",
    "for i in x:  \n",
    "    for j in y:\n",
    "        if i % 2 == 0:\n",
    "            continue\n",
    "            print(i * j)\n",
    "        print(\"i = \",i)\n",
    "    print(\"j = \", j) "
   ]
  }
 ],
 "metadata": {
  "kernelspec": {
   "display_name": "Python 3 (ipykernel)",
   "language": "python",
   "name": "python3"
  },
  "language_info": {
   "codemirror_mode": {
    "name": "ipython",
    "version": 3
   },
   "file_extension": ".py",
   "mimetype": "text/x-python",
   "name": "python",
   "nbconvert_exporter": "python",
   "pygments_lexer": "ipython3",
   "version": "3.10.13"
  }
 },
 "nbformat": 4,
 "nbformat_minor": 5
}
