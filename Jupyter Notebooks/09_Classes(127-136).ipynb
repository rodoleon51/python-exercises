{
 "cells": [
  {
   "cell_type": "markdown",
   "id": "3a3cc1ed-5b91-4bee-9892-19fa965c3f9a",
   "metadata": {},
   "source": [
    "## Classes(127-136)"
   ]
  },
  {
   "cell_type": "code",
   "execution_count": null,
   "id": "9a2632b1-a761-40b2-844c-37c15b75948b",
   "metadata": {},
   "outputs": [],
   "source": []
  }
 ],
 "metadata": {
  "kernelspec": {
   "display_name": "Python 3 (ipykernel)",
   "language": "python",
   "name": "python3"
  },
  "language_info": {
   "codemirror_mode": {
    "name": "ipython",
    "version": 3
   },
   "file_extension": ".py",
   "mimetype": "text/x-python",
   "name": "python",
   "nbconvert_exporter": "python",
   "pygments_lexer": "ipython3",
   "version": "3.10.13"
  }
 },
 "nbformat": 4,
 "nbformat_minor": 5
}
