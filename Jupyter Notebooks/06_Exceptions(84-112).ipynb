{
 "cells": [
  {
   "cell_type": "code",
   "execution_count": 1,
   "id": "fbdee420-5a38-4944-9268-a0b5294e5c4e",
   "metadata": {
    "tags": []
   },
   "outputs": [
    {
     "name": "stdout",
     "output_type": "stream",
     "text": [
      "20\n",
      "200\n"
     ]
    }
   ],
   "source": [
    "# 84. Fix code to avoid SyntaxError\n",
    "\n",
    "x = [1,2]\n",
    "y = [10, 100]\n",
    "for i in x:\n",
    "    for j in y:\n",
    "        if i%2 ==0:\n",
    "            print(i*j)        "
   ]
  },
  {
   "cell_type": "code",
   "execution_count": null,
   "id": "e1998ff2-9054-42a7-b20f-07517be8307f",
   "metadata": {},
   "outputs": [],
   "source": []
  }
 ],
 "metadata": {
  "kernelspec": {
   "display_name": "Python 3 (ipykernel)",
   "language": "python",
   "name": "python3"
  },
  "language_info": {
   "codemirror_mode": {
    "name": "ipython",
    "version": 3
   },
   "file_extension": ".py",
   "mimetype": "text/x-python",
   "name": "python",
   "nbconvert_exporter": "python",
   "pygments_lexer": "ipython3",
   "version": "3.10.13"
  }
 },
 "nbformat": 4,
 "nbformat_minor": 5
}
