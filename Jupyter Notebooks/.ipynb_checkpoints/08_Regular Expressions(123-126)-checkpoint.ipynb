{
 "cells": [
  {
   "cell_type": "markdown",
   "id": "507cdd9a-8e2a-409d-8b44-ce3d225b6fe1",
   "metadata": {},
   "source": [
    "## 8_Regular Expressions(123-126)"
   ]
  },
  {
   "cell_type": "code",
   "execution_count": 2,
   "id": "94011b2a-063e-4898-b9d4-5e1185f537b6",
   "metadata": {},
   "outputs": [
    {
     "name": "stdout",
     "output_type": "stream",
     "text": [
      "Python\n"
     ]
    }
   ],
   "source": [
    "# 123.\n",
    "import re\n",
    "s = \"Python exercises consist of various Modules.\"\n",
    "result = re.match(\"Python\", s)\n",
    "\n",
    "print(result.group())"
   ]
  },
  {
   "cell_type": "code",
   "execution_count": 7,
   "id": "43694c1c-0a83-44bf-967e-348b9f663696",
   "metadata": {},
   "outputs": [
    {
     "name": "stdout",
     "output_type": "stream",
     "text": [
      "Bitcoin\n"
     ]
    }
   ],
   "source": [
    "# 124. Match Bitcoin independently of case\n",
    "import re\n",
    "s = \"Bitcoin was born on Jan 3rd 2009 as an alternative to the failure of the current financial system. In 2017, the price of 1 BTC reached $20000, with a market cap of over $300B.\" \n",
    "result = re.match(\"Bitcoin\", s, re.I)\n",
    "\n",
    "print(result.group())"
   ]
  },
  {
   "cell_type": "code",
   "execution_count": 13,
   "id": "adfdde46-a724-4511-9584-d3b9505dff48",
   "metadata": {},
   "outputs": [
    {
     "name": "stdout",
     "output_type": "stream",
     "text": [
      "Bitcoin was\n"
     ]
    }
   ],
   "source": [
    "# 125. Match 'Bitcoin was' if at the beginning of the rext\n",
    "import re\n",
    "s = \"Bitcoin was born on Jan 3rd 2009 as an alternative to the failure of the current financial system. In 2017, the price of 1 BTC reached $20000, with a market cap of over $300B.\" \n",
    "result = re.match(r\"B.{6} .{3}\", s)\n",
    "\n",
    "print(result.group())"
   ]
  },
  {
   "cell_type": "code",
   "execution_count": 24,
   "id": "c27a69ab-461a-454c-ab4e-71671b16c4be",
   "metadata": {},
   "outputs": [
    {
     "name": "stdout",
     "output_type": "stream",
     "text": [
      "2009\n"
     ]
    }
   ],
   "source": [
    "# 126. Match '2009'in the string\n",
    "import re\n",
    "s = \"Bitcoin was born on Jan 3rd 2009 as an alternative to the failure of the current financial system. In 2017, the price of 1 BTC reached $20000, with a market cap of over $300B.\" \n",
    "result = re.search(r\"(\\d{4})\\s\", s)\n",
    "\n",
    "print(result.group(1))"
   ]
  },
  {
   "cell_type": "code",
   "execution_count": null,
   "id": "696b0140-f549-4d01-ac7a-937d3b26942c",
   "metadata": {},
   "outputs": [],
   "source": []
  }
 ],
 "metadata": {
  "kernelspec": {
   "display_name": "Python 3 (ipykernel)",
   "language": "python",
   "name": "python3"
  },
  "language_info": {
   "codemirror_mode": {
    "name": "ipython",
    "version": 3
   },
   "file_extension": ".py",
   "mimetype": "text/x-python",
   "name": "python",
   "nbconvert_exporter": "python",
   "pygments_lexer": "ipython3",
   "version": "3.10.13"
  }
 },
 "nbformat": 4,
 "nbformat_minor": 5
}
