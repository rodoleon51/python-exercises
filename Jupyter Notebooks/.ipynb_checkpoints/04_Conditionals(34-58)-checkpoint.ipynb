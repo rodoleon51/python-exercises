{
 "cells": [
  {
   "cell_type": "markdown",
   "id": "f447106c-07cd-422d-933d-db4da2ad76a7",
   "metadata": {},
   "source": [
    "## 4_Conditionals(34-58)"
   ]
  },
  {
   "cell_type": "code",
   "execution_count": 2,
   "id": "5abcb46e-7620-4d24-9682-8285b8731426",
   "metadata": {},
   "outputs": [
    {
     "name": "stdout",
     "output_type": "stream",
     "text": [
      "The days of Python 2 are almost over. Python 3 is the king now.\n"
     ]
    }
   ],
   "source": [
    "x = \"The days of Python 2 are almost over. Python 3 is the king now.\"\n",
    "print(x)"
   ]
  },
  {
   "cell_type": "code",
   "execution_count": 3,
   "id": "85ed1a66-ac5a-4bb0-b12b-7d00f0f9ee9b",
   "metadata": {},
   "outputs": [
    {
     "name": "stdout",
     "output_type": "stream",
     "text": [
      "# 34 = TRUE!\n"
     ]
    }
   ],
   "source": [
    "# 34. Print TRUE! if x >= 50 characters\n",
    "if len(x) >= 50:\n",
    "    print('# 34 =', \"TRUE!\")"
   ]
  },
  {
   "cell_type": "code",
   "execution_count": 4,
   "id": "8f344c63-5bc0-4fc8-8250-5c2a8cbb4a8d",
   "metadata": {},
   "outputs": [
    {
     "name": "stdout",
     "output_type": "stream",
     "text": [
      "# 35 = TRUE!\n"
     ]
    }
   ],
   "source": [
    "# 35. Print TRUE! i f x is string and first charactrer is T\n",
    "if type(x) is str and x.startswith(\"T\"):\n",
    "    print('# 35 =', \"TRUE!\")"
   ]
  },
  {
   "cell_type": "code",
   "execution_count": 5,
   "id": "3e835abb-4fbd-4b98-a4cf-9185e4eedd9c",
   "metadata": {},
   "outputs": [
    {
     "name": "stdout",
     "output_type": "stream",
     "text": [
      "# 36 = TRUE!\n"
     ]
    }
   ],
   "source": [
    "#36 Print TRUE! if z in x and y in x 2 or more times\n",
    "if \"z\" in x or x.count(\"y\") >= 2:\n",
    "    print('# 36 =', \"TRUE!\")"
   ]
  },
  {
   "cell_type": "code",
   "execution_count": 6,
   "id": "eb8d52ad-e6a0-47f1-bd99-c0a0ae0e44ee",
   "metadata": {},
   "outputs": [
    {
     "name": "stdout",
     "output_type": "stream",
     "text": [
      "# 37 = FALSE!\n"
     ]
    }
   ],
   "source": [
    "#37 Print TRUE! if index of \"f\" < 10 else print FALSE!\n",
    "if x.index(\"f\") < 10:\n",
    "    print ('# 37 =', \"TRUE!\")\n",
    "else:\n",
    "    print('# 37 =', \"FALSE!\")"
   ]
  },
  {
   "cell_type": "code",
   "execution_count": 7,
   "id": "587e0314-450e-40d4-940e-1fc32c02cc29",
   "metadata": {},
   "outputs": [
    {
     "name": "stdout",
     "output_type": "stream",
     "text": [
      "# 38 = FALSE!\n"
     ]
    }
   ],
   "source": [
    "# 38. Print TRUE! if 3 last characters are digits, False! otherwise\n",
    "if x[-3:].isdigit():\n",
    "    print ('# 38 =', \"TRUE!\")\n",
    "else:\n",
    "    print('# 38 =', \"FALSE!\")"
   ]
  },
  {
   "cell_type": "code",
   "execution_count": 9,
   "id": "7981e234-2935-4430-8bc4-7695c4dd040e",
   "metadata": {},
   "outputs": [
    {
     "name": "stdout",
     "output_type": "stream",
     "text": [
      "[115, 115.9, 116.01, ['length', 'width', 'height'], 109, 115, 119.5, ['length', 'width', 'height']]\n"
     ]
    }
   ],
   "source": [
    "x = [115, 115.9, 116.01, [\"length\", \"width\", \"height\"], 109, 115, 119.5, [\"length\", \"width\", \"height\"]]\n",
    "print(x)"
   ]
  },
  {
   "cell_type": "code",
   "execution_count": 10,
   "id": "41c54c06-c977-4f98-a861-f8ab1ee5386b",
   "metadata": {},
   "outputs": [
    {
     "name": "stdout",
     "output_type": "stream",
     "text": [
      "# 39 = TRUE!\n"
     ]
    }
   ],
   "source": [
    "# 39. Print TRUE! if x >= 8 elements and index 6 is float, False! otherwise\n",
    "if len(x) >= 8 and type(x[6]) is float:\n",
    "    print ('# 39 =', \"TRUE!\")\n",
    "else:\n",
    "    print('# 39 =', \"FALSE!\")"
   ]
  },
  {
   "cell_type": "code",
   "execution_count": 14,
   "id": "d8a48e9a-9bfa-4c37-a522-dc12d9893d2e",
   "metadata": {},
   "outputs": [
    {
     "name": "stdout",
     "output_type": "stream",
     "text": [
      "# 40 = TRUE!\n"
     ]
    }
   ],
   "source": [
    "# 40. \n",
    "x = [115, 115.9, 116.01, [\"length\", \"width\", \"height\"], 109, 115, 119.5, [\"length\", \"width\", \"height\"]]\n",
    "if x[3][1].endswith(\"h\") and x[7][0].endswith(\"h\"):\n",
    "    print ('# 40 =', \"TRUE!\")\n",
    "else:\n",
    "    print('# 40 =', \"FALSE!\")"
   ]
  },
  {
   "cell_type": "code",
   "execution_count": 18,
   "id": "7e49cd8f-ac45-4aa4-8389-0e1b0d1bed59",
   "metadata": {},
   "outputs": [
    {
     "name": "stdout",
     "output_type": "stream",
     "text": [
      "# 41 = TRUE!\n"
     ]
    }
   ],
   "source": [
    "# 41 \n",
    "x = [115, 115.9, 116.01, [\"length\", \"width\", \"height\"], 109, 115, 119.5, [\"length\", \"width\", \"height\"]]\n",
    "if x[3][2].endswith(\"h\") or x[7][1].endswith(\"h\"):\n",
    "    print ('# 41 =', \"TRUE!\")\n",
    "else:\n",
    "    print('# 41 =', \"FALSE!\")"
   ]
  },
  {
   "cell_type": "code",
   "execution_count": 35,
   "id": "30670a49-f634-4831-8073-a3312239ffac",
   "metadata": {},
   "outputs": [],
   "source": [
    "x = [115, 115.9, 116.01, 109, 115, 119.5, [\"length\", \"width\", \"height\"]]"
   ]
  },
  {
   "cell_type": "code",
   "execution_count": 36,
   "id": "d7805057-a251-4275-9689-42eeead7d1fa",
   "metadata": {},
   "outputs": [
    {
     "name": "stdout",
     "output_type": "stream",
     "text": [
      "# 42 = FALSE!\n"
     ]
    }
   ],
   "source": [
    "# 42 Max of first 3 elements <= min of next 3\n",
    "if max(x[0:3]) <= min(x[3:6]):\n",
    "    print ('# 42 =', \"TRUE!\")\n",
    "else:\n",
    "    print('# 42 =', \"FALSE!\")"
   ]
  },
  {
   "cell_type": "code",
   "execution_count": 37,
   "id": "461514ce-1ca2-4470-9f0b-710c72915bd3",
   "metadata": {},
   "outputs": [
    {
     "name": "stdout",
     "output_type": "stream",
     "text": [
      "# 43 = TRUE!\n"
     ]
    }
   ],
   "source": [
    "# 43. Does 115 appear at least once\n",
    "if x.count(115) >= 1 or x.index(115) == 0:\n",
    "    print ('# 43 =', \"TRUE!\")\n",
    "else:\n",
    "    print('# 43 =', \"FALSE!\")"
   ]
  },
  {
   "cell_type": "code",
   "execution_count": 38,
   "id": "7944641d-f3a8-4e72-a1b6-6fc592aa0cd0",
   "metadata": {},
   "outputs": [],
   "source": [
    "x = {1: \"Python\", 2: \"Java\", 3: \"Javascript\", 4: \"Ruby\", 5: \"Perl\", 6: \"C#\", 7: \"C++\"}"
   ]
  },
  {
   "cell_type": "code",
   "execution_count": 39,
   "id": "a50abd51-f072-41dd-91d3-642d66b1faaf",
   "metadata": {},
   "outputs": [
    {
     "name": "stdout",
     "output_type": "stream",
     "text": [
      "# 44 = TRUE!\n"
     ]
    }
   ],
   "source": [
    "# 44.\n",
    "if x[5] == \"Perl\" or len(x) % 5 < 2:\n",
    "    print ('# 44 =', \"TRUE!\")\n",
    "else:\n",
    "    print('# 44 =', \"FALSE!\")"
   ]
  },
  {
   "cell_type": "code",
   "execution_count": 40,
   "id": "0593d9a4-40a0-46bc-9481-c0344ad7bc1c",
   "metadata": {},
   "outputs": [
    {
     "name": "stdout",
     "output_type": "stream",
     "text": [
      "Sorted values: ['C#', 'C++', 'Java', 'Javascript', 'Perl', 'Python', 'Ruby']\n",
      "# 45 = TRUE!\n"
     ]
    }
   ],
   "source": [
    "if 3 in x and sorted(x.values())[0]== \"C#\":\n",
    "    print(\"Sorted values:\", sorted(x.values())[:])\n",
    "    print ('# 45 =', \"TRUE!\")\n",
    "else:\n",
    "    print('# 45 =', \"FALSE!\")"
   ]
  },
  {
   "cell_type": "code",
   "execution_count": 43,
   "id": "b63325b4-54d0-4b51-bc04-8e98c1281992",
   "metadata": {},
   "outputs": [
    {
     "name": "stdout",
     "output_type": "stream",
     "text": [
      "y\n",
      "# 46 = FALSE!\n"
     ]
    }
   ],
   "source": [
    "# 46. See if n is rhe last character of largest value in x\n",
    "if sorted(x.values())[-1][-1] == \"n\":\n",
    "    print(sorted(x.values())[-1][-1])\n",
    "    print ('# 46 =', \"TRUE!\")\n",
    "else:\n",
    "    print(sorted(x.values())[-1][-1])\n",
    "    print('# 46 =', \"FALSE!\")"
   ]
  },
  {
   "cell_type": "code",
   "execution_count": 93,
   "id": "58faba64-177e-4677-ba56-95c9c8afbde3",
   "metadata": {},
   "outputs": [],
   "source": [
    "x = {1: \"Python\", 2: \"Java\", 3: \"Javascript\", 4: \"Ruby\", 5: \"Perl\", 6: \"C#\", 7: \"C++\"}"
   ]
  },
  {
   "cell_type": "code",
   "execution_count": 94,
   "id": "05a98d7d-d385-4bb4-8540-356db814e182",
   "metadata": {},
   "outputs": [
    {
     "name": "stdout",
     "output_type": "stream",
     "text": [
      "# 47 = TRUE!\n"
     ]
    }
   ],
   "source": [
    "#47.\n",
    "if sorted(x.keys())[-1] % sorted(x.keys())[-2] == sorted(x.keys())[0]:\n",
    "    print ('# 47 =', \"TRUE!\")\n",
    "else:\n",
    "    print('# 47 =', \"FALSE!\")"
   ]
  },
  {
   "cell_type": "code",
   "execution_count": 96,
   "id": "0c68002b-9504-4e05-91d8-2ffe3aa6d3cc",
   "metadata": {},
   "outputs": [
    {
     "name": "stdout",
     "output_type": "stream",
     "text": [
      "28; 28\n",
      "# 47 = FALSE!\n"
     ]
    }
   ],
   "source": [
    "# 48. \n",
    "print(sum(x),end = '; ')\n",
    "print(len(x[1] + x[2] + x[3] + x[4] + x[5]))\n",
    "\n",
    "if sum(x) < len(x[1] + x[2] + x[3] + x[4] + x[5]):\n",
    "    print ('# 47 =', \"TRUE!\")\n",
    "else:\n",
    "    print('# 47 =', \"FALSE!\")\n"
   ]
  },
  {
   "cell_type": "code",
   "execution_count": 97,
   "id": "d9694f41-7044-43d5-8e9c-12b76203b608",
   "metadata": {},
   "outputs": [
    {
     "name": "stdout",
     "output_type": "stream",
     "text": [
      "[0, 1, 2, 3, 4]\n",
      "[5, 6, 7, 8]\n",
      "[1, 4, 7]\n"
     ]
    }
   ],
   "source": [
    "print(list(range(5)))\n",
    "print(list(range(5,9)))\n",
    "print(list(range(1,10,3)))"
   ]
  },
  {
   "cell_type": "code",
   "execution_count": 100,
   "id": "d1580754-ccde-4b6f-8e63-5cee619abfc3",
   "metadata": {},
   "outputs": [
    {
     "name": "stdout",
     "output_type": "stream",
     "text": [
      "# 49 = NONE!\n",
      "x[0][2]= 2; x[0][4]= 4\n"
     ]
    }
   ],
   "source": [
    "# 49.\n",
    "x = [list(range(5)), list(range(5,9)), list(range(1,10,3))]\n",
    "if x[0][2] < 2:\n",
    "    print ('# 49 =', \"TRUE!\")\n",
    "else:\n",
    "    if x[0][4] == 5:\n",
    "        print('# 49 =', \"FALSE!\")\n",
    "    else:\n",
    "        print('# 49 =', \"NONE!\")\n",
    "        \n",
    "print('x[0][2]=', x[0][2],end = '; ')\n",
    "print('x[0][4]=', x[0][4])"
   ]
  },
  {
   "cell_type": "code",
   "execution_count": 101,
   "id": "b0e72267-6747-4257-8f24-971083660b6e",
   "metadata": {},
   "outputs": [
    {
     "name": "stdout",
     "output_type": "stream",
     "text": [
      "# 50 = FALSE!\n",
      "x[2][2]= 7; x[1][0]= 5\n"
     ]
    }
   ],
   "source": [
    "# 50.\n",
    "x = [list(range(5)), list(range(5,9)), list(range(1,10,3))]\n",
    "if x[2][2] < 6:\n",
    "    print('# 49 =', \"TRUE!\")\n",
    "else:\n",
    "    if x[1][0] == 5:\n",
    "        print('# 50 =', \"FALSE!\")\n",
    "    else:\n",
    "        print('# 50 =', \"NONE!\")\n",
    "\n",
    "print(\"x[2][2]=\", x[2][2],end = '; ')\n",
    "print(\"x[1][0]=\", x[1][0])"
   ]
  },
  {
   "cell_type": "code",
   "execution_count": 102,
   "id": "75a5b17e-0538-4f88-92dc-074338f4e1b9",
   "metadata": {},
   "outputs": [
    {
     "name": "stdout",
     "output_type": "stream",
     "text": [
      "# 51 = TRUE!\n",
      "x[0][-1]= 4; x[1][-1]= 8\n"
     ]
    }
   ],
   "source": [
    "# 51.\n",
    "x = [list(range(5)), list(range(5,9)), list(range(1,10,3))]\n",
    "if x[0][-1] > 3:\n",
    "    print('# 51 =', \"TRUE!\")\n",
    "else:\n",
    "    if x[1][-1] < 9:\n",
    "        print('# 51 =', \"FALSE!\")\n",
    "    else:\n",
    "        print('# 51 =', \"NONE!\")\n",
    "        \n",
    "print(\"x[0][-1]=\", x[0][-1],end = '; ')\n",
    "print(\"x[1][-1]=\", x[1][-1])"
   ]
  },
  {
   "cell_type": "code",
   "execution_count": 103,
   "id": "59366dfb-3bb0-47b5-8da7-b3d94315b0b0",
   "metadata": {},
   "outputs": [
    {
     "name": "stdout",
     "output_type": "stream",
     "text": [
      "# 52 = TRUE!\n",
      "len(x[0])= 5\n"
     ]
    }
   ],
   "source": [
    "# 52.\n",
    "x = [list(range(5)), list(range(5,9)), list(range(1,10,3))]\n",
    "if len(x[0]) >= 5:\n",
    "    print('# 52 =', \"TRUE!\")\n",
    "else:\n",
    "    if len(x[1]) == 4:\n",
    "        print('# 52 =', \"FALSE!\")\n",
    "    else:\n",
    "        print('# 52 =', \"NONE!\")\n",
    "        \n",
    "print(\"len(x[0])=\", len(x[0]))"
   ]
  },
  {
   "cell_type": "code",
   "execution_count": 104,
   "id": "12bffee3-ecbc-44f8-bbbf-ee81edf1d90b",
   "metadata": {},
   "outputs": [
    {
     "name": "stdout",
     "output_type": "stream",
     "text": [
      "# 53 = FALSE!\n",
      "sum(x[0])= 10; sum(x[2])= 12; max(x[1])= 8; max(x[2])= 7\n"
     ]
    }
   ],
   "source": [
    "# 53\n",
    "x = [list(range(5)), list(range(5,9)), list(range(1,10,3))]\n",
    "if sum(x[0]) > sum(x[2]):\n",
    "    print('# 53 =', \"TRUE!\")\n",
    "else:\n",
    "    if max(x[1]) > max(x[2]):\n",
    "        print('# 53 =', \"FALSE!\")\n",
    "    else:\n",
    "        print('# 53 =', \"NONE!\")\n",
    "\n",
    "print('sum(x[0])=', sum(x[0]),end = '; ')\n",
    "print('sum(x[2])=', sum(x[2]),end = '; ') \n",
    "print('max(x[1])=', max(x[1]),end = '; ')\n",
    "print('max(x[2])=', max(x[2]))"
   ]
  },
  {
   "cell_type": "code",
   "execution_count": 110,
   "id": "58755195-6e01-4c29-b14d-138b7e9f2911",
   "metadata": {},
   "outputs": [
    {
     "name": "stdout",
     "output_type": "stream",
     "text": [
      "# 54 = TRUE!\n",
      "x[0][0]= 0; max(x[0])= 4; x[2][1]= 4; sum(x[2])= 12\n"
     ]
    }
   ],
   "source": [
    "# 54.\n",
    "x = [list(range(5)), list(range(5,9)), list(range(1,10,3))]\n",
    "if max(x[0]) - x[2][1] == x[0][0]:\n",
    "    print('# 54 =', \"TRUE!\")\n",
    "else:\n",
    "    if len(x[0]) - len(x[1]) == x[2][0]:\n",
    "        print('# 54 =', \"FALSE!\")\n",
    "    else:\n",
    "        if sum(x[2]) % 2 == 0:\n",
    "            print('# 54 =', \"MAYBE!\")\n",
    "        else:\n",
    "            print('# 54 =', \"NONE!\")\n",
    "            \n",
    "print('x[0][0]=', x[0][0], end='; ')\n",
    "print('max(x[0])=', max(x[0]), end='; ')\n",
    "print('x[2][1]=', x[2][1], end='; ')\n",
    "print('sum(x[2])=', sum(x[2]))"
   ]
  },
  {
   "cell_type": "code",
   "execution_count": 7,
   "id": "9260c045-b34b-4ad6-9470-d638567c6606",
   "metadata": {},
   "outputs": [
    {
     "name": "stdout",
     "output_type": "stream",
     "text": [
      "# 55 = FALSE!\n",
      "sum(x[0][-3:])= 9; sum(x[2][3:])= 0; sum(x[1][-3:])= 21; len(x[0])= 5; sum(x[2]))= 12\n"
     ]
    }
   ],
   "source": [
    "# 55.\n",
    "x = [list(range(5)), list(range(5,9)), list(range(1,10,3))]\n",
    "if sum(x[0][-3:]) + sum(x[2][3:]) == sum(x[1][-3:]):\n",
    "    print('# 55 =', \"TRUE!\")\n",
    "else:\n",
    "    if len(x[0]) * 2 < sum(x[2]):\n",
    "        print('# 55 =', \"FALSE!\")\n",
    "        \n",
    "print('sum(x[0][-3:])=', sum(x[0][-3:]), end='; ')\n",
    "print('sum(x[2][3:])=', sum(x[2][3:]), end='; ')\n",
    "print('sum(x[1][-3:])=', sum(x[1][-3:]), end='; ')\n",
    "print('len(x[0])=', len(x[0]), end='; ')\n",
    "print('sum(x[2]))=', sum(x[2]))"
   ]
  },
  {
   "cell_type": "code",
   "execution_count": 8,
   "id": "e19d5f9d-ebc9-4606-95de-6954b7b79b6c",
   "metadata": {},
   "outputs": [],
   "source": [
    "x = {1: \"Python\", 2: \"Java\", 3: \"Javascript\", 4: \"Ruby\", 5: \"Perl\", 6: \"C#\", 7: \"C++\"}"
   ]
  },
  {
   "cell_type": "code",
   "execution_count": 14,
   "id": "bbb90cc7-1bfc-4256-9e75-4ed0b73ad44e",
   "metadata": {},
   "outputs": [
    {
     "name": "stdout",
     "output_type": "stream",
     "text": [
      "# 56 = TRUE!\n",
      "x[1][1] = y; x[4]= Ruby\n"
     ]
    }
   ],
   "source": [
    "# 56.\n",
    "if x[1][1] in x[4]:\n",
    "    print('# 56 =', \"TRUE!\")\n",
    "else:\n",
    "    print('# 56 =', \"FALSE!\")\n",
    "# print(x[0][1])\n",
    "print('x[1][1] =', x[1][1], end='; ')\n",
    "print('x[4]=', x[4])"
   ]
  },
  {
   "cell_type": "code",
   "execution_count": 15,
   "id": "11d6de06-9404-4b97-9270-6e2ade8a5be8",
   "metadata": {},
   "outputs": [
    {
     "name": "stdout",
     "output_type": "stream",
     "text": [
      "# 57 = FALSE!\n",
      "x[3][-2] = p; x[5][0] = P\n"
     ]
    }
   ],
   "source": [
    "# 57.\n",
    "if x[3][-2] == x[5][0]:\n",
    "    print('# 57 =', \"TRUE!\")\n",
    "else:\n",
    "    print('# 57 =', \"FALSE!\")\n",
    "    \n",
    "print('x[3][-2] =', x[3][-2], end='; ')\n",
    "print('x[5][0] =', x[5][0])"
   ]
  },
  {
   "cell_type": "code",
   "execution_count": 18,
   "id": "6a8d2cd2-37ed-4a75-970a-d974b2a252e7",
   "metadata": {},
   "outputs": [
    {
     "name": "stdout",
     "output_type": "stream",
     "text": [
      "# 58 = TRUE!\n",
      "len(min(x.values()))= 2; x[3].count(\"a\")= 2\n"
     ]
    }
   ],
   "source": [
    "# 58.\n",
    "if len(min(x.values())) == x[3].count(\"a\"):\n",
    "    print('# 58 =', \"TRUE!\")\n",
    "else:\n",
    "    print('# 58 =', \"FALSE!\")\n",
    "\n",
    "print('len(min(x.values()))=', len(min(x.values())), end='; ')\n",
    "print('x[3].count(\"a\")=', x[3].count(\"a\"))"
   ]
  },
  {
   "cell_type": "code",
   "execution_count": null,
   "id": "382c3815-8764-41f1-86ec-87e1dc7d434d",
   "metadata": {},
   "outputs": [],
   "source": []
  }
 ],
 "metadata": {
  "kernelspec": {
   "display_name": "Python 3 (ipykernel)",
   "language": "python",
   "name": "python3"
  },
  "language_info": {
   "codemirror_mode": {
    "name": "ipython",
    "version": 3
   },
   "file_extension": ".py",
   "mimetype": "text/x-python",
   "name": "python",
   "nbconvert_exporter": "python",
   "pygments_lexer": "ipython3",
   "version": "3.9.13"
  }
 },
 "nbformat": 4,
 "nbformat_minor": 5
}
