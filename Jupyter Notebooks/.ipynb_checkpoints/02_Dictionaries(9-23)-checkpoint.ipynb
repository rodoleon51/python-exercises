{
 "cells": [
  {
   "cell_type": "markdown",
   "id": "21c13af9-d842-41e0-9a22-bb0b80a56deb",
   "metadata": {},
   "source": [
    "## 2_Dictionaries(9-23)"
   ]
  },
  {
   "cell_type": "code",
   "execution_count": 6,
   "id": "6443487f-31f4-474b-816e-f5d39ff3e520",
   "metadata": {},
   "outputs": [
    {
     "name": "stdout",
     "output_type": "stream",
     "text": [
      "{1: 'Bitcoin', 2: 'Ethereum', 3: 'Litecoin', 4: 'Stellar', 5: 'XRP'}\n"
     ]
    }
   ],
   "source": [
    "crypto = {1:\"Bitcoin\", 2:\"Ethereum\", 3:\"Litecoin\", 4:\"Stellar\", 5:\"XRP\"}\n",
    "print(crypto)"
   ]
  },
  {
   "cell_type": "code",
   "execution_count": 7,
   "id": "3143b771-8412-4284-a698-19cbd908e4b2",
   "metadata": {},
   "outputs": [
    {
     "name": "stdout",
     "output_type": "stream",
     "text": [
      "#9 = Stellar\n"
     ]
    }
   ],
   "source": [
    "# 9. Return value of key 4\n",
    "value = crypto[4]\n",
    "print('#9 =', value)"
   ]
  },
  {
   "cell_type": "code",
   "execution_count": 8,
   "id": "f77ec129-e3a6-4501-85ab-104305dff491",
   "metadata": {},
   "outputs": [
    {
     "name": "stdout",
     "output_type": "stream",
     "text": [
      "# 10 = Stellar\n"
     ]
    }
   ],
   "source": [
    "# 10 Return value of key 4 with method\n",
    "value = crypto.get(4)\n",
    "print('# 10 =', value)"
   ]
  },
  {
   "cell_type": "code",
   "execution_count": 10,
   "id": "fbf9328a-9238-4132-87ab-16d517f68b9f",
   "metadata": {},
   "outputs": [
    {
     "name": "stdout",
     "output_type": "stream",
     "text": [
      "# 11 = {1: 'Bitcoin', 2: 'Ethereum', 3: 'Litecoin', 4: 'Cardano', 5: 'XRP'}\n"
     ]
    }
   ],
   "source": [
    "# 11 Update the value on key 4 to \"Cardano\"\n",
    "crypto[4] = \"Cardano\"\n",
    "print('# 11 =', crypto)"
   ]
  },
  {
   "cell_type": "code",
   "execution_count": 11,
   "id": "8303e47c-a219-469b-993b-85ee71fa8bc4",
   "metadata": {},
   "outputs": [
    {
     "name": "stdout",
     "output_type": "stream",
     "text": [
      "# 12 = {1: 'Bitcoin', 2: 'Ethereum', 3: 'Litecoin', 4: 'Cardano', 5: 'XRP', 6: 'Monero'}\n"
     ]
    }
   ],
   "source": [
    "# 12 Add new key-value pair, 6:\"Monero\" to crypto.\n",
    "crypto[6] = \"Monero\"\n",
    "print('# 12 =', crypto)"
   ]
  },
  {
   "cell_type": "code",
   "execution_count": 12,
   "id": "72a9b5bb-8bb0-4944-8fa2-f1343649bc72",
   "metadata": {},
   "outputs": [
    {
     "name": "stdout",
     "output_type": "stream",
     "text": [
      "#13 = 6\n"
     ]
    }
   ],
   "source": [
    "# 13 Return the number of key-value pairs  in crypto\n",
    "number = len(crypto)\n",
    "print('#13 =', number)"
   ]
  },
  {
   "cell_type": "code",
   "execution_count": 13,
   "id": "445db329-23cd-41c0-a8d5-d853713e4e62",
   "metadata": {},
   "outputs": [
    {
     "name": "stdout",
     "output_type": "stream",
     "text": [
      "#14 = {1: 'Bitcoin', 2: 'Ethereum', 4: 'Cardano', 5: 'XRP', 6: 'Monero'}\n"
     ]
    }
   ],
   "source": [
    "# 14 Delete value on key 3\n",
    "del crypto[3]\n",
    "print('#14 =', crypto)"
   ]
  },
  {
   "cell_type": "code",
   "execution_count": 14,
   "id": "bf26b142-5a7d-40fa-b34f-d0118d9eaebb",
   "metadata": {},
   "outputs": [
    {
     "name": "stdout",
     "output_type": "stream",
     "text": [
      "#15 = {1: 'Bitcoin', 2: 'Ethereum', 4: 'Stellar', 5: 'XRP'}\n"
     ]
    }
   ],
   "source": [
    "# 15 Delete value on key 3 with method\n",
    "crypto = {1:\"Bitcoin\", 2:\"Ethereum\", 3:\"Litecoin\", 4:\"Stellar\", 5:\"XRP\"}\n",
    "crypto.pop(3)\n",
    "print('#15 =', crypto)"
   ]
  },
  {
   "cell_type": "code",
   "execution_count": 17,
   "id": "d031ca52-2d38-4d31-af5f-e45acb5da211",
   "metadata": {},
   "outputs": [
    {
     "name": "stdout",
     "output_type": "stream",
     "text": [
      "# 16 = True\n"
     ]
    }
   ],
   "source": [
    "# 16 Verify that code 7 is not in crypto\n",
    "crypto = {1:\"Bitcoin\", 2:\"Ethereum\", 3:\"Litecoin\", 4:\"Stellar\", 5:\"XRP\"}\n",
    "check = 7 not in crypto\n",
    "print('# 16 =', check)"
   ]
  },
  {
   "cell_type": "code",
   "execution_count": 18,
   "id": "bbcfc7ea-50dd-4ba0-80ca-3021a71e8658",
   "metadata": {},
   "outputs": [
    {
     "name": "stdout",
     "output_type": "stream",
     "text": [
      "# 17 = {}\n"
     ]
    }
   ],
   "source": [
    "# 17 Delete all elements in dictionary\n",
    "crypto.clear()\n",
    "print('# 17 =', crypto)"
   ]
  },
  {
   "cell_type": "code",
   "execution_count": 19,
   "id": "107a47bd-6e7f-4c44-a603-b7825a48374f",
   "metadata": {},
   "outputs": [
    {
     "name": "stdout",
     "output_type": "stream",
     "text": [
      "# 18 = [(1, 'Bitcoin'), (2, 'Ethereum'), (3, 'Litecoin'), (4, 'Stellar'), (5, 'XRP')]\n"
     ]
    }
   ],
   "source": [
    "# 18 Covert a dictionary to list\n",
    "crypto = {1:\"Bitcoin\", 2:\"Ethereum\", 3:\"Litecoin\", 4:\"Stellar\", 5:\"XRP\"}\n",
    "result = crypto.items()\n",
    "print('# 18 =', list(result))"
   ]
  },
  {
   "cell_type": "code",
   "execution_count": 20,
   "id": "781ca375-1158-4150-aa35-b3e04c29e022",
   "metadata": {},
   "outputs": [
    {
     "name": "stdout",
     "output_type": "stream",
     "text": [
      "# 19A = 15\n"
     ]
    }
   ],
   "source": [
    "# 19 Sum the keys in the dictionary\n",
    "#A)\n",
    "add = sum(crypto.keys())\n",
    "print('# 19A =', add)"
   ]
  },
  {
   "cell_type": "code",
   "execution_count": 23,
   "id": "5f7056e1-0a7e-458e-b9af-e303f5f72f6f",
   "metadata": {},
   "outputs": [
    {
     "name": "stdout",
     "output_type": "stream",
     "text": [
      "# 19B = 15\n"
     ]
    }
   ],
   "source": [
    "#B)\n",
    "add = sum(crypto)\n",
    "print('# 19B =', add)"
   ]
  },
  {
   "cell_type": "code",
   "execution_count": 22,
   "id": "04c3ae8d-c6f7-46ba-ac96-f069e16da26e",
   "metadata": {},
   "outputs": [
    {
     "name": "stdout",
     "output_type": "stream",
     "text": [
      "# 20 = ['Bitcoin', 'Ethereum', 'Litecoin', 'Stellar', 'XRP']\n"
     ]
    }
   ],
   "source": [
    "# 20 Get a list of the values\n",
    "values = crypto.values()\n",
    "print('# 20 =', list(values))"
   ]
  },
  {
   "cell_type": "code",
   "execution_count": 24,
   "id": "1c7cf9de-40b8-4258-8c08-b667c396dc7f",
   "metadata": {},
   "outputs": [
    {
     "name": "stdout",
     "output_type": "stream",
     "text": [
      "# 21 = 1\n"
     ]
    }
   ],
   "source": [
    "# 21 Get smallest key \n",
    "key = min(crypto)\n",
    "print('# 21 =', key)"
   ]
  },
  {
   "cell_type": "code",
   "execution_count": 25,
   "id": "29e0f674-c75a-45e9-a8eb-922845fa403b",
   "metadata": {},
   "outputs": [
    {
     "name": "stdout",
     "output_type": "stream",
     "text": [
      "# 22 = [1, 2, 3, 4, 5]\n"
     ]
    }
   ],
   "source": [
    "# 22 Get list of keys\n",
    "keys = crypto.keys()\n",
    "print('# 22 =', list(keys))"
   ]
  },
  {
   "cell_type": "code",
   "execution_count": 26,
   "id": "63dc994d-f14c-4855-8598-2aec6c98204f",
   "metadata": {},
   "outputs": [
    {
     "name": "stdout",
     "output_type": "stream",
     "text": [
      "# 23 = {1: 'Bitcoin', 2: 'Ethereum', 3: 'Litecoin', 5: 'XRP'}\n"
     ]
    }
   ],
   "source": [
    "# 23 Remove a key-value pair\n",
    "del crypto[4]\n",
    "print('# 23 =', crypto)"
   ]
  },
  {
   "cell_type": "code",
   "execution_count": null,
   "id": "51877ea0-1378-43f8-b606-2ea660640188",
   "metadata": {},
   "outputs": [],
   "source": []
  }
 ],
 "metadata": {
  "kernelspec": {
   "display_name": "Python 3 (ipykernel)",
   "language": "python",
   "name": "python3"
  },
  "language_info": {
   "codemirror_mode": {
    "name": "ipython",
    "version": 3
   },
   "file_extension": ".py",
   "mimetype": "text/x-python",
   "name": "python",
   "nbconvert_exporter": "python",
   "pygments_lexer": "ipython3",
   "version": "3.9.13"
  }
 },
 "nbformat": 4,
 "nbformat_minor": 5
}
