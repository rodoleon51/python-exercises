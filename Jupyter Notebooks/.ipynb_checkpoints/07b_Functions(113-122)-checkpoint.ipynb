{
 "cells": [
  {
   "cell_type": "code",
   "execution_count": 4,
   "id": "b5af10bc-f791-49a3-8d86-8b366a17f96c",
   "metadata": {},
   "outputs": [
    {
     "name": "stdout",
     "output_type": "stream",
     "text": [
      "\n",
      "Exercise # 113\n",
      "Lorem ipsum dolor sit amet, consectetur adipiscing elit, sed do eiusmod tempor incididunt ut labore et dolore magna aliqua. Ut enim ad minim veniam, quis nostrud exercitation ullamco laboris nisi ut aliquip ex ea commodo consequat. Duis aute irure dolor in reprehenderit in voluptate velit esse cillum dolore eu fugiat nulla pariatur. Excepteur sint occaecat cupidatat non proident, sunt in culpa qui officia deserunt mollit anim id est laborum.\n"
     ]
    }
   ],
   "source": [
    "# 113.\n",
    "print(\"\\nExercise # 113\")\n",
    "f = open(\"test.txt\", \"r\")\n",
    "print(f.read())"
   ]
  },
  {
   "cell_type": "code",
   "execution_count": 5,
   "id": "1a6ca508-c43f-4824-8d62-0f8a4a5ec4b4",
   "metadata": {},
   "outputs": [
    {
     "name": "stdout",
     "output_type": "stream",
     "text": [
      "\n",
      "Exercise # 114\n",
      "['Lorem ipsum dolor sit amet, consectetur adipiscing elit, sed do eiusmod tempor incididunt ut labore et dolore magna aliqua. Ut enim ad minim veniam, quis nostrud exercitation ullamco laboris nisi ut aliquip ex ea commodo consequat. Duis aute irure dolor in reprehenderit in voluptate velit esse cillum dolore eu fugiat nulla pariatur. Excepteur sint occaecat cupidatat non proident, sunt in culpa qui officia deserunt mollit anim id est laborum.']\n"
     ]
    }
   ],
   "source": [
    "# 114.\n",
    "print(\"\\nExercise # 114\")\n",
    "f = open(\"test.txt\", \"r\")\n",
    "print(f.readlines())"
   ]
  },
  {
   "cell_type": "code",
   "execution_count": 7,
   "id": "fcdc3880-575b-46ad-842d-ea752eef7915",
   "metadata": {},
   "outputs": [
    {
     "name": "stdout",
     "output_type": "stream",
     "text": [
      "\n",
      "Exercise # 115\n",
      "Lorem ipsum dolor sit amet, consectetur adipiscing elit, sed do eiusmod tempor incididunt ut labore et dolore magna aliqua. Ut enim ad minim veniam, quis nostrud exercitation ullamco laboris nisi ut aliquip ex ea commodo consequat. Duis aute irure dolor in reprehenderit in voluptate velit esse cillum dolore eu fugiat nulla pariatur. Excepteur sint occaecat cupidatat non proident, sunt in culpa qui officia deserunt mollit anim id est laborum.\n"
     ]
    }
   ],
   "source": [
    "# 115. \n",
    "print(\"\\nExercise # 115\")\n",
    "f = open(\"test.txt\", \"r\")\n",
    "f.read()\n",
    "f.seek(0)\n",
    "print(f.read())"
   ]
  },
  {
   "cell_type": "code",
   "execution_count": 8,
   "id": "d326bafb-5fbb-4d4e-8950-398bf3ec8b85",
   "metadata": {},
   "outputs": [
    {
     "name": "stdout",
     "output_type": "stream",
     "text": [
      "\n",
      "Exercise # 116\n",
      "5\n"
     ]
    }
   ],
   "source": [
    "# 116. \n",
    "print(\"\\nExercise # 116\")\n",
    "f = open(\"test.txt\", \"r\")\n",
    "f.read(5)\n",
    "print(f.tell())"
   ]
  },
  {
   "cell_type": "code",
   "execution_count": 9,
   "id": "41dc22a4-df33-47f8-a941-6d23f34bfbb3",
   "metadata": {},
   "outputs": [
    {
     "name": "stdout",
     "output_type": "stream",
     "text": [
      "\n",
      "Exercise # 117\n"
     ]
    },
    {
     "ename": "TypeError",
     "evalue": "'str' object is not callable",
     "output_type": "error",
     "traceback": [
      "\u001b[1;31m---------------------------------------------------------------------------\u001b[0m",
      "\u001b[1;31mTypeError\u001b[0m                                 Traceback (most recent call last)",
      "\u001b[1;32m~\\AppData\\Local\\Temp\\ipykernel_10728\\4243017436.py\u001b[0m in \u001b[0;36m<module>\u001b[1;34m\u001b[0m\n\u001b[0;32m      3\u001b[0m \u001b[0mf\u001b[0m \u001b[1;33m=\u001b[0m \u001b[0mopen\u001b[0m\u001b[1;33m(\u001b[0m\u001b[1;34m\"test.txt\"\u001b[0m\u001b[1;33m,\u001b[0m \u001b[1;34m\"r\"\u001b[0m\u001b[1;33m)\u001b[0m\u001b[1;33m\u001b[0m\u001b[1;33m\u001b[0m\u001b[0m\n\u001b[0;32m      4\u001b[0m \u001b[0mf\u001b[0m\u001b[1;33m.\u001b[0m\u001b[0mread\u001b[0m\u001b[1;33m(\u001b[0m\u001b[1;36m5\u001b[0m\u001b[1;33m)\u001b[0m\u001b[1;33m\u001b[0m\u001b[1;33m\u001b[0m\u001b[0m\n\u001b[1;32m----> 5\u001b[1;33m \u001b[0mprint\u001b[0m\u001b[1;33m(\u001b[0m\u001b[0mf\u001b[0m\u001b[1;33m.\u001b[0m\u001b[0mmode\u001b[0m\u001b[1;33m(\u001b[0m\u001b[1;33m)\u001b[0m\u001b[1;33m)\u001b[0m\u001b[1;33m\u001b[0m\u001b[1;33m\u001b[0m\u001b[0m\n\u001b[0m",
      "\u001b[1;31mTypeError\u001b[0m: 'str' object is not callable"
     ]
    }
   ],
   "source": [
    "# 117. \n",
    "print(\"\\nExercise # 117\")\n",
    "f = open(\"test.txt\", \"r\")\n",
    "f.read(5)\n",
    "print(f.mode())"
   ]
  },
  {
   "cell_type": "code",
   "execution_count": null,
   "id": "95a62b10-a8fb-4401-9a77-f9f534adda1a",
   "metadata": {},
   "outputs": [],
   "source": [
    "# 118. \n",
    "print(\"\\nExercise # 118\")\n",
    "f = open(\"test.txt\", \"a+\")\n",
    "priprint(\"\\nExercise # 118\")nt(f.mode())"
   ]
  },
  {
   "cell_type": "code",
   "execution_count": null,
   "id": "75fb1b6a-5c80-44d1-ba53-11f3b54b6745",
   "metadata": {},
   "outputs": [],
   "source": [
    "# 119.\n",
    "print(\"\\nExercise # 119\")\n",
    "f=open(\"test.txt\", \"w\")\n",
    "f.write(\"python\")\n",
    "f.close()\n",
    "f=open(\"test.txt\", \"r\")\n",
    "print(f.read())"
   ]
  },
  {
   "cell_type": "code",
   "execution_count": null,
   "id": "98bb3a46-e3de-45b3-927f-d4c562864cef",
   "metadata": {},
   "outputs": [],
   "source": [
    "#120.\n",
    "print(\"\\nExercise # 120\")\n",
    "f=open(\"test.txt\", \"w\")\n",
    "f.writelines(['python',' ','and',' ', 'java'])\n",
    "f.close()\n",
    "f=open(\"test.txt\", \"r\")\n",
    "print(f.read())"
   ]
  },
  {
   "cell_type": "code",
   "execution_count": null,
   "id": "d25ac1b7-b6b1-4db3-9b14-bdbd0d46a230",
   "metadata": {},
   "outputs": [],
   "source": [
    "# 121.\n",
    "print(\"\\nExercise # 121\")\n",
    "with open(\"test.txt\", \"w\") as f:\n",
    "    f.write('python')\n",
    "f=open(\"test.txt\", \"r\")\n",
    "print(f.read())"
   ]
  },
  {
   "cell_type": "code",
   "execution_count": null,
   "id": "11167a62-48ce-4680-b514-35eeb8b74b6d",
   "metadata": {},
   "outputs": [],
   "source": [
    "# 122.\n",
    "print(\"\\nExercise # 122\")\n",
    "with open(\"test.txt\", \"w\")as f:\n",
    "    f.write('python')\n",
    "f=open(\"test.txt\", \"r+\")\n",
    "f.truncate()\n",
    "f=open(\"test.txt\", \"r\")\n",
    "print(f.read())"
   ]
  }
 ],
 "metadata": {
  "kernelspec": {
   "display_name": "Python 3 (ipykernel)",
   "language": "python",
   "name": "python3"
  },
  "language_info": {
   "codemirror_mode": {
    "name": "ipython",
    "version": 3
   },
   "file_extension": ".py",
   "mimetype": "text/x-python",
   "name": "python",
   "nbconvert_exporter": "python",
   "pygments_lexer": "ipython3",
   "version": "3.9.12"
  }
 },
 "nbformat": 4,
 "nbformat_minor": 5
}
