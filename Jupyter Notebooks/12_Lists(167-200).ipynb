{
 "cells": [
  {
   "cell_type": "markdown",
   "id": "7fad49a4-d87e-41a0-9d69-df659ee7e4fd",
   "metadata": {},
   "source": [
    "## Lists (167-200)"
   ]
  },
  {
   "cell_type": "code",
   "execution_count": null,
   "id": "4a3dbaba-d9e1-47bb-8a75-086d69ee9828",
   "metadata": {},
   "outputs": [],
   "source": []
  }
 ],
 "metadata": {
  "kernelspec": {
   "display_name": "Python 3 (ipykernel)",
   "language": "python",
   "name": "python3"
  },
  "language_info": {
   "codemirror_mode": {
    "name": "ipython",
    "version": 3
   },
   "file_extension": ".py",
   "mimetype": "text/x-python",
   "name": "python",
   "nbconvert_exporter": "python",
   "pygments_lexer": "ipython3",
   "version": "3.10.13"
  }
 },
 "nbformat": 4,
 "nbformat_minor": 5
}
