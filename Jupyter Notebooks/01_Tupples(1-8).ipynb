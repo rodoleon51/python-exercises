{
 "cells": [
  {
   "cell_type": "markdown",
   "id": "dac979ec-da6b-4eaf-bbc7-8efdf8d9ff43",
   "metadata": {},
   "source": [
    "## Tupples (1-8)"
   ]
  },
  {
   "cell_type": "code",
   "execution_count": 2,
   "id": "88734c1a-64c8-4853-9426-e2e15d5d4c97",
   "metadata": {},
   "outputs": [
    {
     "name": "stdout",
     "output_type": "stream",
     "text": [
      "# 1 = [0, 1, 2, 3, 4, 5, 6, 7, 8, 9]\n"
     ]
    }
   ],
   "source": [
    "#1. Return a range of consecutive numbers from 0 to 9 inclusively. Use 1 argument.\n",
    "my_range = range(10)\n",
    "print(\"# 1 =\", list(my_range))"
   ]
  },
  {
   "cell_type": "code",
   "execution_count": 3,
   "id": "1c72a2a0-173a-4f43-b5d6-5a3ef566bdac",
   "metadata": {},
   "outputs": [
    {
     "name": "stdout",
     "output_type": "stream",
     "text": [
      "# 2 = [0, 1, 2, 3, 4, 5, 6, 7, 8, 9]\n"
     ]
    }
   ],
   "source": [
    "#2. Return a range of consecutive numbers from 0 to 9 inclusively. Use 2 arguments.\n",
    "my_range = range(0, 10)\n",
    "print(\"# 2 =\", list(my_range))"
   ]
  },
  {
   "cell_type": "code",
   "execution_count": 4,
   "id": "90689db6-ff92-4800-b545-3d340a6b53c0",
   "metadata": {},
   "outputs": [
    {
     "name": "stdout",
     "output_type": "stream",
     "text": [
      "# 3 = [117, 118, 119, 120, 121, 122, 123, 124, 125, 126, 127, 128]\n"
     ]
    }
   ],
   "source": [
    "#3. Return a range of consecutive numbers from 117 to 129 exclusively.\n",
    "my_range = range(117, 129)\n",
    "print(\"# 3 =\", list(my_range))"
   ]
  },
  {
   "cell_type": "code",
   "execution_count": 5,
   "id": "4dfba5fa-2bc1-4ec2-aebd-a8f8bb827dc7",
   "metadata": {},
   "outputs": [
    {
     "name": "stdout",
     "output_type": "stream",
     "text": [
      "# 4 = [10, 13, 16, 19]\n"
     ]
    }
   ],
   "source": [
    "#4. Return[10, 13, 16, 19] when converted to a list\n",
    "my_range = range(10, 20, 3)\n",
    "print(\"# 4 =\", list(my_range))"
   ]
  },
  {
   "cell_type": "code",
   "execution_count": 6,
   "id": "30b70ea6-707d-4aba-b58b-8bc4f185b6b2",
   "metadata": {},
   "outputs": [
    {
     "name": "stdout",
     "output_type": "stream",
     "text": [
      "# 5 = [115, 120]\n"
     ]
    }
   ],
   "source": [
    "#5 Return [115, 120] from [115, 125]\n",
    "my_range = range(115, 125, 5)\n",
    "print(\"# 5 =\", list(my_range))"
   ]
  },
  {
   "cell_type": "code",
   "execution_count": 7,
   "id": "9b5f0b5d-cfce-4add-8b7e-a24d3fddf994",
   "metadata": {},
   "outputs": [
    {
     "name": "stdout",
     "output_type": "stream",
     "text": [
      "# 6 = [-75, -60, -45, -30]\n"
     ]
    }
   ],
   "source": [
    "#6 Return [-75, -60, -45, -30] from (-75, -25)\n",
    "my_range = range(-75, -25, 15)\n",
    "print(\"# 6 =\", list(my_range))"
   ]
  },
  {
   "cell_type": "code",
   "execution_count": 8,
   "id": "9439cd4e-e8de-434b-9219-e95387fef46e",
   "metadata": {},
   "outputs": [
    {
     "name": "stdout",
     "output_type": "stream",
     "text": [
      "# 7 = [-25, 5, 35, 65, 95, 125]\n"
     ]
    }
   ],
   "source": [
    "#7 Return [-25, 5, 35, 65, 95, 125] from (-25, 139)\n",
    "my_range = range(-25, 139, 30)\n",
    "print(\"# 7 =\", list(my_range))"
   ]
  },
  {
   "cell_type": "code",
   "execution_count": 9,
   "id": "3f287106-09ef-42f4-a4be-25f4dbfb4304",
   "metadata": {},
   "outputs": [
    {
     "name": "stdout",
     "output_type": "stream",
     "text": [
      "# 8 = [-10]\n"
     ]
    }
   ],
   "source": [
    "#8 Return [-10]\n",
    "my_range = range(-10, -9)\n",
    "print(\"# 8 =\", list(my_range))"
   ]
  },
  {
   "cell_type": "markdown",
   "id": "e3e60182-5e29-42a3-a048-465632b7d6db",
   "metadata": {},
   "source": []
  }
 ],
 "metadata": {
  "kernelspec": {
   "display_name": "Python 3 (ipykernel)",
   "language": "python",
   "name": "python3"
  },
  "language_info": {
   "codemirror_mode": {
    "name": "ipython",
    "version": 3
   },
   "file_extension": ".py",
   "mimetype": "text/x-python",
   "name": "python",
   "nbconvert_exporter": "python",
   "pygments_lexer": "ipython3",
   "version": "3.10.13"
  }
 },
 "nbformat": 4,
 "nbformat_minor": 5
}
