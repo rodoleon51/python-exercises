{
 "cells": [
  {
   "cell_type": "markdown",
   "id": "d0a88f7e-5a1d-43fc-a71c-0a24953e984e",
   "metadata": {},
   "source": [
    "## Loops (59-83)"
   ]
  },
  {
   "cell_type": "code",
   "execution_count": 1,
   "id": "a579453d-8f40-4cf5-ae92-3bad3d599074",
   "metadata": {},
   "outputs": [],
   "source": [
    "x = [10, 12, 13, 14, 17, 19, 21, 22, 25]"
   ]
  },
  {
   "cell_type": "code",
   "execution_count": 6,
   "id": "60f5ed72-fb62-4c12-96a2-2dde2d1c63be",
   "metadata": {},
   "outputs": [
    {
     "name": "stdout",
     "output_type": "stream",
     "text": [
      "Exercise # 59\n",
      "10 12 13 14 17 19 21 22 25 "
     ]
    }
   ],
   "source": [
    "# 59. Iterate x list and print each element\n",
    "print(\"Exercise # 59\")\n",
    "for i in x:\n",
    "  print (i, end = \" \")"
   ]
  },
  {
   "cell_type": "code",
   "execution_count": 7,
   "id": "c76eaf37-500f-41f0-b008-9e798ea80eed",
   "metadata": {},
   "outputs": [
    {
     "name": "stdout",
     "output_type": "stream",
     "text": [
      "Exercise # 60\n",
      "1 0 1 2 2 1 0 1 1 "
     ]
    }
   ],
   "source": [
    "# 60. Iterate x list and print remainder of each element/3\n",
    "print(\"Exercise # 60\")\n",
    "for i in x:\n",
    "    print(i % 3, end = \" \")"
   ]
  },
  {
   "cell_type": "code",
   "execution_count": 8,
   "id": "3dc37d99-9404-4568-9fa9-38836579b682",
   "metadata": {},
   "outputs": [
    {
     "name": "stdout",
     "output_type": "stream",
     "text": [
      "Exercise # 61\n",
      "250 220 210 190 170 140 130 120 100 "
     ]
    }
   ],
   "source": [
    "# 61.  \n",
    "print(\"Exercise # 61\")\n",
    "for i in sorted(x, reverse = True):\n",
    "    print(i * 10, end = \" \")"
   ]
  },
  {
   "cell_type": "code",
   "execution_count": 10,
   "id": "64e36696-9d50-4ea4-8310-14c3638e6784",
   "metadata": {},
   "outputs": [
    {
     "name": "stdout",
     "output_type": "stream",
     "text": [
      "Exercise # 62\n",
      "5.0 6.0 6.5 7.0 8.5 9.5 10.5 11.0 12.5 \n",
      "Great job!\n"
     ]
    }
   ],
   "source": [
    "# 62.\n",
    "print(\"Exercise # 62\")\n",
    "for i in x:\n",
    "    print(i / 2, end = \" \")\n",
    "print(\"\\nGreat job!\")"
   ]
  },
  {
   "cell_type": "code",
   "execution_count": 11,
   "id": "a52c6745-c8e4-47ef-8fcb-5046a8bbd306",
   "metadata": {},
   "outputs": [
    {
     "name": "stdout",
     "output_type": "stream",
     "text": [
      "Exercise # 63\n",
      "0 1 2 3 4 5 6 7 8 "
     ]
    }
   ],
   "source": [
    "#63. \n",
    "print(\"Exercise # 63\")\n",
    "for i in x:\n",
    "    print(x.index(i), end = \" \")"
   ]
  },
  {
   "cell_type": "code",
   "execution_count": 12,
   "id": "7f03f706-a214-4499-98e7-23d693309d14",
   "metadata": {},
   "outputs": [
    {
     "name": "stdout",
     "output_type": "stream",
     "text": [
      "Exercise # 64\n",
      "0 1 4 9 16 25 "
     ]
    }
   ],
   "source": [
    "#64. Print x^2 while x<= 5\n",
    "x = 0\n",
    "print(\"Exercise # 64\")\n",
    "while x <= 5:\n",
    "    print (x**2, end = \" \")\n",
    "    x = x + 1"
   ]
  },
  {
   "cell_type": "code",
   "execution_count": 13,
   "id": "dbf2c593-087c-475a-b7b6-f93bd67252ec",
   "metadata": {},
   "outputs": [
    {
     "name": "stdout",
     "output_type": "stream",
     "text": [
      "Exercise # 65\n",
      "0 10 20 30 40 \n",
      "Done!\n"
     ]
    }
   ],
   "source": [
    "# 65.\n",
    "print(\"Exercise # 65\")\n",
    "x = 0\n",
    "while x <= 4:\n",
    "    print(x * 10, end = \" \")\n",
    "    x = x + 1\n",
    "print(\"\\nDone!\")"
   ]
  },
  {
   "cell_type": "code",
   "execution_count": 14,
   "id": "ad54fcc6-5e81-47c9-8c4a-ec469e36b855",
   "metadata": {},
   "outputs": [
    {
     "name": "stdout",
     "output_type": "stream",
     "text": [
      "Exercise # 66\n",
      "20 "
     ]
    }
   ],
   "source": [
    "# 66.\n",
    "print(\"Exercise # 66\")\n",
    "x = 10\n",
    "while x <= 15 and x % 5 == 0:\n",
    "    print(x + 10, end = \" \")\n",
    "    x = x +1"
   ]
  },
  {
   "cell_type": "code",
   "execution_count": 15,
   "id": "9cf288db-1517-4ad3-91ad-13349c665a99",
   "metadata": {},
   "outputs": [
    {
     "name": "stdout",
     "output_type": "stream",
     "text": [
      "Exercise # 67\n",
      "7 6 5 4 3 2 1 "
     ]
    }
   ],
   "source": [
    "# 67.\n",
    "print(\"Exercise # 67\")\n",
    "x = -7\n",
    "while x < 0:\n",
    "    print(abs(x), end = \" \" )\n",
    "    x = x + 1"
   ]
  },
  {
   "cell_type": "code",
   "execution_count": 16,
   "id": "8db7e7e2-2e26-4830-b057-c986e11b128a",
   "metadata": {},
   "outputs": [
    {
     "name": "stdout",
     "output_type": "stream",
     "text": [
      "Exercise # 68\n",
      "10 12 14 16 18 5.0\n"
     ]
    }
   ],
   "source": [
    "# 68.\n",
    "print(\"Exercise # 68\")\n",
    "x = 5\n",
    "y = 2\n",
    "while x >= 5 and x < 10:\n",
    "    print(x * y, end = \" \" )\n",
    "    x = x + 1\n",
    "else:\n",
    "    print(x / y)"
   ]
  },
  {
   "cell_type": "code",
   "execution_count": 17,
   "id": "550fb806-e89d-4bc2-a9e3-f4643de1b7ad",
   "metadata": {},
   "outputs": [
    {
     "name": "stdout",
     "output_type": "stream",
     "text": [
      "Exercise # 69\n",
      "210 220 250 "
     ]
    }
   ],
   "source": [
    "# 69.\n",
    "print(\"Exercise # 69\")\n",
    "x = [10, 12, 13, 14, 17, 19, 21, 22, 25]\n",
    "for i in x:\n",
    "    if i > 20:\n",
    "        print(i * 10, end = \" \" )"
   ]
  },
  {
   "cell_type": "code",
   "execution_count": 18,
   "id": "2e4fb0ef-cffb-4401-ab44-081558791ce1",
   "metadata": {},
   "outputs": [
    {
     "name": "stdout",
     "output_type": "stream",
     "text": [
      "Exercise # 70\n",
      "10 20 20 40 30 60 "
     ]
    }
   ],
   "source": [
    "70.\n",
    "print(\"Exercise # 70\")\n",
    "x = [2, 4, 6]\n",
    "y = [5, 10]\n",
    "for i in x:\n",
    "    for j in y:\n",
    "        print(i * j, end = \" \")"
   ]
  },
  {
   "cell_type": "code",
   "execution_count": 19,
   "id": "cf17b24a-0906-4c42-bb9c-18c8ca37c3df",
   "metadata": {},
   "outputs": [
    {
     "name": "stdout",
     "output_type": "stream",
     "text": [
      "Exercise # 71\n",
      "10 20 30 40 20 40 60 80 30 60 90 120 40 80 120 160 "
     ]
    }
   ],
   "source": [
    "# 71.\n",
    "print(\"Exercise # 71\")\n",
    "x = [2, 4, 6, 8]\n",
    "y = [5, 10, 15, 20 ]\n",
    "for i in x:\n",
    "    for j in y:\n",
    "        print(i * j, end = \" \")"
   ]
  },
  {
   "cell_type": "code",
   "execution_count": 20,
   "id": "5458d4e4-2fa6-4370-a722-830516fe0f08",
   "metadata": {},
   "outputs": [
    {
     "name": "stdout",
     "output_type": "stream",
     "text": [
      "Exercise # 72\n",
      "30 60 40 80 "
     ]
    }
   ],
   "source": [
    "# 72.\n",
    "print(\"Exercise # 72\")\n",
    "x = [2, 4, 6, 8]\n",
    "y = [5, 10, 15, 20]\n",
    "for i in x:\n",
    "    for j in y:\n",
    "        if i > 5 and j < 12:\n",
    "            print (i * j, end = \" \")"
   ]
  },
  {
   "cell_type": "code",
   "execution_count": 31,
   "id": "4b3e34da-e5bc-4677-802f-a19e348aeb22",
   "metadata": {},
   "outputs": [
    {
     "name": "stdout",
     "output_type": "stream",
     "text": [
      "Exercise # 73\n",
      "\"j<=10\" -> 10 \"j<=10\" -> 20 \n",
      "\"j>10\" -> 450 \n",
      "\"j>10\" -> 800 \"j<=10\" -> 20 \"j<=10\" -> 40 \n",
      "\"j>10\" -> 900 \n",
      "\"j>10\" -> 1600 \"j<=10\" -> 30 \"j<=10\" -> 60 \n",
      "\"j>10\" -> 1350 \n",
      "\"j>10\" -> 2400 \"j<=10\" -> 40 \"j<=10\" -> 80 \n",
      "\"j>10\" -> 1800 \n",
      "\"j>10\" -> 3200 "
     ]
    }
   ],
   "source": [
    "# 73.\n",
    "print(\"Exercise # 73\")\n",
    "x = [2, 4, 6, 8]\n",
    "y = [5, 10, 15, 20]\n",
    "for i in x:\n",
    "    for j in y:\n",
    "        if j <= 10:\n",
    "            print(\"\\\"j<=10\\\" ->\", i * j, end = \" \")\n",
    "        else:\n",
    "            if j > 10:\n",
    "                print(\"\\n\\\"j>10\\\" ->\", i * j**2, end = \" \")"
   ]
  },
  {
   "cell_type": "code",
   "execution_count": 33,
   "id": "e5834324-3201-494d-8576-c0f19e529be1",
   "metadata": {},
   "outputs": [
    {
     "name": "stdout",
     "output_type": "stream",
     "text": [
      "Exercise # 74\n",
      "cc; oo; cc; nn; cc; "
     ]
    }
   ],
   "source": [
    "# 74.\n",
    "print(\"Exercise # 74\")\n",
    "x = \"cryptocurrency\"\n",
    "y = \"blockchain\"\n",
    "for i in x:\n",
    "    if i in y:\n",
    "        print(i * 2, end='; ')"
   ]
  },
  {
   "cell_type": "code",
   "execution_count": 34,
   "id": "10520d1c-cb9c-41a2-b383-2adffc066a8a",
   "metadata": {},
   "outputs": [
    {
     "name": "stdout",
     "output_type": "stream",
     "text": [
      "Exercise # 75\n",
      "3 4 5 6 7 "
     ]
    }
   ],
   "source": [
    "# 75.\n",
    "print(\"Exercise # 75\")\n",
    "my_range = range(9)\n",
    "for i in my_range:\n",
    "    if 3 <= i <= 7:\n",
    "        print(i * my_range[1], end = \" \")"
   ]
  },
  {
   "cell_type": "code",
   "execution_count": 63,
   "id": "3b224077-d013-46b2-b5e2-1eeead3460d9",
   "metadata": {},
   "outputs": [
    {
     "name": "stdout",
     "output_type": "stream",
     "text": [
      "Exercise # 76\n",
      "Range: [1, 3, 5, 7, 9]\n",
      "\n",
      " Outside of range[3-8]!\n",
      "\n",
      "For 'i' = 3 >>> 27; For 'i' = 5 >>> 45; For 'i' = 7 >>> 63; \n",
      " Outside of range[3-8]!\n",
      "\n"
     ]
    }
   ],
   "source": [
    "# 76.\n",
    "print(\"Exercise # 76\")\n",
    "print(\"Range:\", list(range(1, 11, 2)))\n",
    "for i in range(1, 11, 2):\n",
    "    if 3 <= i <= 8:\n",
    "        print(\"For \\'i\\' =\", i, end = ' >>> ')\n",
    "        print(i * range(1, 11, 2)[-1], end = \"; \")\n",
    "    else: \n",
    "        print(\"\\nOutside of range[3-8]!\\n\")"
   ]
  },
  {
   "cell_type": "code",
   "execution_count": 68,
   "id": "cc82a7d8-79a4-45e9-ade7-29426d7f44ab",
   "metadata": {},
   "outputs": [
    {
     "name": "stdout",
     "output_type": "stream",
     "text": [
      "Exercise # 77\n",
      "Range: [5, 10, 15, 20]\n",
      "Outside of range[5-25]!\n",
      "For 'i' = 10 >>> 150; For 'i' = 15 >>> 225; For 'i' = 20 >>> 300; \n",
      "The End!\n"
     ]
    }
   ],
   "source": [
    "# 77.\n",
    "print(\"Exercise # 77\")\n",
    "print(\"Range:\", list(range(5, 25, 5)))\n",
    "for i in range(5, 25, 5):\n",
    "    if 10 <= i <= 21:\n",
    "        print(\"For \\'i\\' =\", i, end = ' >>> ')\n",
    "        print( i * range(5, 25, 5)[-2], end = \"; \")\n",
    "    else:\n",
    "        print(\"Outside of range[5-25]!\")\n",
    "print(\"\\nThe End!\")"
   ]
  },
  {
   "cell_type": "code",
   "execution_count": 73,
   "id": "90eaaaea-74f1-4aa2-85cf-4dd8c562ee22",
   "metadata": {},
   "outputs": [
    {
     "name": "stdout",
     "output_type": "stream",
     "text": [
      "Exercise # 78\n",
      "55, 66, 77, 88, 99, x is 10!\n",
      "121, "
     ]
    }
   ],
   "source": [
    "# 78.\n",
    "print(\"Exercise # 78\")\n",
    "x = 5\n",
    "while x <= 11:\n",
    "    if x == 10:\n",
    "        print(\"x is 10!\")\n",
    "        x = x + 1\n",
    "    else: \n",
    "        print (x * 11, end = \", \")\n",
    "        x = x + 1"
   ]
  },
  {
   "cell_type": "code",
   "execution_count": 77,
   "id": "ee832afc-ecf1-408d-8c95-30f3930a7bcd",
   "metadata": {},
   "outputs": [
    {
     "name": "stdout",
     "output_type": "stream",
     "text": [
      "Exercise # 79\n",
      "20\n"
     ]
    }
   ],
   "source": [
    "# 79. Insert break\n",
    "print(\"Exercise # 79\")\n",
    "x = [1,2]\n",
    "y = [10, 100]\n",
    "for i in x:  \n",
    "    for j in y:\n",
    "        if i % 2 == 0:\n",
    "            print(i * j)\n",
    "            break"
   ]
  },
  {
   "cell_type": "code",
   "execution_count": 84,
   "id": "1da5713d-3248-40c3-a0ee-8545cd076869",
   "metadata": {},
   "outputs": [
    {
     "name": "stdout",
     "output_type": "stream",
     "text": [
      "Exercise # 80\n",
      "i = 1\n",
      "i = 1\n",
      "j = 100 20\n",
      "j = 10 "
     ]
    }
   ],
   "source": [
    "# 80. Insert break\n",
    "print(\"Exercise # 80\")\n",
    "x = [1,2]\n",
    "y = [10, 100]\n",
    "for i in x:  \n",
    "    for j in y:\n",
    "        if i % 2 == 0:\n",
    "            print(i * j)\n",
    "            break\n",
    "        print(\"i =\",i)\n",
    "    print(\"j =\",j,end = \" \")"
   ]
  },
  {
   "cell_type": "code",
   "execution_count": 87,
   "id": "a9d39ece-a57e-494d-9225-9f80aca52d72",
   "metadata": {},
   "outputs": [
    {
     "name": "stdout",
     "output_type": "stream",
     "text": [
      "Exercise # 81\n",
      "i =  1\n",
      "i =  1\n",
      "j =  100 j =  10 "
     ]
    }
   ],
   "source": [
    "# 81. Insert break to get 1, 1, 100, 10\n",
    "print(\"Exercise # 81\")\n",
    "x = [1,2]\n",
    "y = [10, 100]\n",
    "for i in x:  \n",
    "    for j in y:\n",
    "        if i % 2 == 0:\n",
    "            break    \n",
    "            print(i * j)\n",
    "        print(\"i = \",i)\n",
    "    print(\"j = \", j, end = \" \")"
   ]
  },
  {
   "cell_type": "code",
   "execution_count": 95,
   "id": "7fa907a6-a09f-4de1-972a-de9aee0b6b30",
   "metadata": {},
   "outputs": [
    {
     "name": "stdout",
     "output_type": "stream",
     "text": [
      "Exercise # 82\n",
      "i = 1\n",
      "i = 1\n",
      "j = 100\n",
      "20\n",
      "200\n",
      "j = 100\n"
     ]
    }
   ],
   "source": [
    "# 82. Insert continue to get 1, 1, 100, 20, 200\n",
    "print(\"Exercise # 82\")\n",
    "x = [1,2]\n",
    "y = [10, 100]\n",
    "for i in x:  \n",
    "    for j in y:\n",
    "        if i % 2 == 0:     \n",
    "            print(i * j)\n",
    "            continue\n",
    "        print(\"i =\", i)\n",
    "    print(\"j =\", j) "
   ]
  },
  {
   "cell_type": "code",
   "execution_count": 100,
   "id": "ba468214-f658-4f45-8b67-366e8fd1e798",
   "metadata": {},
   "outputs": [
    {
     "name": "stdout",
     "output_type": "stream",
     "text": [
      "Exercise # 83\n",
      "i =  1\n",
      "i =  1\n",
      "j =  100\n",
      "j =  100\n"
     ]
    }
   ],
   "source": [
    "# 83. Insert continue tp get 1,1,100, 100\n",
    "print(\"Exercise # 83\")\n",
    "x = [1,2]\n",
    "y = [10, 100]\n",
    "for i in x:  \n",
    "    for j in y:\n",
    "        if i % 2 == 0:\n",
    "            continue\n",
    "            print(i * j)\n",
    "        print(\"i = \",i)\n",
    "    print(\"j = \", j) "
   ]
  },
  {
   "cell_type": "code",
   "execution_count": null,
   "id": "4e75f15c-852e-41a8-bc51-2a148a6b737e",
   "metadata": {},
   "outputs": [],
   "source": []
  }
 ],
 "metadata": {
  "kernelspec": {
   "display_name": "Python 3 (ipykernel)",
   "language": "python",
   "name": "python3"
  },
  "language_info": {
   "codemirror_mode": {
    "name": "ipython",
    "version": 3
   },
   "file_extension": ".py",
   "mimetype": "text/x-python",
   "name": "python",
   "nbconvert_exporter": "python",
   "pygments_lexer": "ipython3",
   "version": "3.10.13"
  }
 },
 "nbformat": 4,
 "nbformat_minor": 5
}
