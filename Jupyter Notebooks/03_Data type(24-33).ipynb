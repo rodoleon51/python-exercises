{
 "cells": [
  {
   "cell_type": "markdown",
   "id": "616b02f2-8e44-455c-9ab3-184a3ffcd1e2",
   "metadata": {},
   "source": [
    "## Data Type (23-33)"
   ]
  },
  {
   "cell_type": "code",
   "execution_count": 8,
   "id": "1591b382-2b0f-4d60-b648-e5b792d16887",
   "metadata": {},
   "outputs": [
    {
     "name": "stdout",
     "output_type": "stream",
     "text": [
      "10\n",
      "# 24 = <class 'str'>\n"
     ]
    }
   ],
   "source": [
    "# 24. Convert value to string\n",
    "value = 10\n",
    "conv = str(value)\n",
    "print(conv)\n",
    "print('# 24 =', type(conv))"
   ]
  },
  {
   "cell_type": "code",
   "execution_count": 9,
   "id": "fd75a715-612c-4468-979e-11f053221639",
   "metadata": {},
   "outputs": [
    {
     "name": "stdout",
     "output_type": "stream",
     "text": [
      "10\n",
      "# 25 = <class 'int'>\n"
     ]
    }
   ],
   "source": [
    "# 25. Convert string to integer\n",
    "value = \"10\"\n",
    "conv = int(value)\n",
    "print(conv)\n",
    "print('# 25 =', type(conv))"
   ]
  },
  {
   "cell_type": "code",
   "execution_count": 10,
   "id": "ac27c0ac-2332-455d-9128-8d5803899a1b",
   "metadata": {},
   "outputs": [
    {
     "name": "stdout",
     "output_type": "stream",
     "text": [
      "10.0\n",
      "# 26 = <class 'float'>\n"
     ]
    }
   ],
   "source": [
    "# 26 Convert value to floating-point number\n",
    "value = 10\n",
    "conv = float(value)\n",
    "print(conv)\n",
    "print('# 26 =', type(conv))"
   ]
  },
  {
   "cell_type": "code",
   "execution_count": 11,
   "id": "c5dadef3-4d87-4909-9370-c7c5947a3923",
   "metadata": {},
   "outputs": [
    {
     "name": "stdout",
     "output_type": "stream",
     "text": [
      "['H', 'e', 'l', 'l', 'o', '!']\n",
      "# 27 = <class 'list'>\n"
     ]
    }
   ],
   "source": [
    "# 27 Convert value to list\n",
    "value = \"Hello!\"\n",
    "conv = list(value)\n",
    "print(conv)\n",
    "print('# 27 =', type(conv))"
   ]
  },
  {
   "cell_type": "code",
   "execution_count": 13,
   "id": "51515c9a-187b-4098-8f45-e35bfdbedf15",
   "metadata": {},
   "outputs": [
    {
     "name": "stdout",
     "output_type": "stream",
     "text": [
      "(1, 2, 3, 10, 20, 30)\n",
      "# 28 = <class 'tuple'>\n"
     ]
    }
   ],
   "source": [
    "# 28 Convert value to tuple\n",
    "value = [1, 2, 3, 10, 20, 30]\n",
    "conv = tuple(value)\n",
    "print(conv)\n",
    "print('# 28 =', type(conv))"
   ]
  },
  {
   "cell_type": "code",
   "execution_count": 14,
   "id": "f227907e-4ac6-4ee3-8dfb-662cf623bdf7",
   "metadata": {},
   "outputs": [
    {
     "name": "stdout",
     "output_type": "stream",
     "text": [
      "frozenset({1, 2, 3, 10, 20, 30})\n",
      "# 29 = <class 'frozenset'>\n"
     ]
    }
   ],
   "source": [
    "# 29 Convert value to frozen set\n",
    "value = [1, 2, 3, 10, 20, 30]\n",
    "conv = frozenset(value)\n",
    "print(conv)\n",
    "print('# 29 =', type(conv))"
   ]
  },
  {
   "cell_type": "code",
   "execution_count": 15,
   "id": "c6749639-7ba1-4e38-9321-ac47e86c353c",
   "metadata": {},
   "outputs": [
    {
     "name": "stdout",
     "output_type": "stream",
     "text": [
      "# 30 = 0b1010\n"
     ]
    }
   ],
   "source": [
    "# 30 Convert value to binary\n",
    "value = 10\n",
    "conv = bin(value)\n",
    "print('# 30 =', conv)"
   ]
  },
  {
   "cell_type": "code",
   "execution_count": 16,
   "id": "0107975d-9858-4f03-bccd-baa229e41ed6",
   "metadata": {},
   "outputs": [
    {
     "name": "stdout",
     "output_type": "stream",
     "text": [
      "# 31 = 0xa\n"
     ]
    }
   ],
   "source": [
    "# 31 Convert value to hexadecimal\n",
    "value = 10\n",
    "conv = hex(value)\n",
    "print('# 31 =', conv)"
   ]
  },
  {
   "cell_type": "code",
   "execution_count": 17,
   "id": "c0d1e6fe-ee5b-48b6-a441-380ee88d26dd",
   "metadata": {},
   "outputs": [
    {
     "name": "stdout",
     "output_type": "stream",
     "text": [
      "# 32 = 10\n"
     ]
    }
   ],
   "source": [
    "# 32 Convert value from binary to decimal\n",
    "value = '0b1010'\n",
    "conv = int(value, 2)\n",
    "print('# 32 =', conv)"
   ]
  },
  {
   "cell_type": "code",
   "execution_count": 18,
   "id": "705be4f6-1004-4eb4-b625-cfab91cd4f77",
   "metadata": {},
   "outputs": [
    {
     "name": "stdout",
     "output_type": "stream",
     "text": [
      "# 33 = 10\n"
     ]
    }
   ],
   "source": [
    "# 33 Convert from hexadecimal to decimal\n",
    "value = '0xa'\n",
    "conv = int(value, 16)\n",
    "print('# 33 =', conv)"
   ]
  },
  {
   "cell_type": "code",
   "execution_count": null,
   "id": "fdf91864-0908-4502-b0fa-9d871cc82677",
   "metadata": {},
   "outputs": [],
   "source": []
  }
 ],
 "metadata": {
  "kernelspec": {
   "display_name": "Python 3 (ipykernel)",
   "language": "python",
   "name": "python3"
  },
  "language_info": {
   "codemirror_mode": {
    "name": "ipython",
    "version": 3
   },
   "file_extension": ".py",
   "mimetype": "text/x-python",
   "name": "python",
   "nbconvert_exporter": "python",
   "pygments_lexer": "ipython3",
   "version": "3.9.13"
  }
 },
 "nbformat": 4,
 "nbformat_minor": 5
}
