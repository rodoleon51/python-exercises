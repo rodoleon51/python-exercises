{
 "cells": [
  {
   "cell_type": "markdown",
   "id": "2a80040b-4134-45bd-92d6-719331358199",
   "metadata": {},
   "source": [
    "## 7b Functions (113-122)"
   ]
  },
  {
   "cell_type": "code",
   "execution_count": 8,
   "id": "b5af10bc-f791-49a3-8d86-8b366a17f96c",
   "metadata": {},
   "outputs": [
    {
     "name": "stdout",
     "output_type": "stream",
     "text": [
      "\n",
      "Exercise # 113\n",
      "Result: Lorem ipsum dolor sit amet, consectetur adipiscing elit, sed do eiusmod tempor incididunt ut labore et dolore magna aliqua. Ut enim ad minim veniam, quis nostrud exercitation ullamco laboris nisi ut aliquip ex ea commodo consequat. Duis aute irure dolor in reprehenderit in voluptate velit esse cillum dolore eu fugiat nulla pariatur. Excepteur sint occaecat cupidatat non proident, sunt in culpa qui officia deserunt mollit anim id est laborum.\n"
     ]
    }
   ],
   "source": [
    "# 113. Read the contents of test.txt \n",
    "print(\"\\nExercise # 113\")\n",
    "f = open(\"./data/test113.txt\", \"r\") \n",
    "print(\"Result:\", f.read()) "
   ]
  },
  {
   "cell_type": "code",
   "execution_count": 9,
   "id": "1a6ca508-c43f-4824-8d62-0f8a4a5ec4b4",
   "metadata": {},
   "outputs": [
    {
     "name": "stdout",
     "output_type": "stream",
     "text": [
      "\n",
      "Exercise # 114\n",
      "Result: ['Lorem ipsum dolor sit amet, consectetur adipiscing elit, sed do eiusmod tempor incididunt ut labore et dolore magna aliqua. Ut enim ad minim veniam, quis nostrud exercitation ullamco laboris nisi ut aliquip ex ea commodo consequat. Duis aute irure dolor in reprehenderit in voluptate velit esse cillum dolore eu fugiat nulla pariatur. Excepteur sint occaecat cupidatat non proident, sunt in culpa qui officia deserunt mollit anim id est laborum.']\n"
     ]
    }
   ],
   "source": [
    "# 114.  Read the contents of test.txt as alist\n",
    "print(\"\\nExercise # 114\")\n",
    "f = open(\"./data/test114.txt\", \"r\") \n",
    "print(\"Result:\",f.readlines())"
   ]
  },
  {
   "cell_type": "code",
   "execution_count": 10,
   "id": "fcdc3880-575b-46ad-842d-ea752eef7915",
   "metadata": {},
   "outputs": [
    {
     "name": "stdout",
     "output_type": "stream",
     "text": [
      "\n",
      "Exercise # 115\n",
      "Result: Lorem ipsum dolor sit amet, consectetur adipiscing elit, sed do eiusmod tempor incididunt ut labore et dolore magna aliqua. Ut enim ad minim veniam, quis nostrud exercitation ullamco laboris nisi ut aliquip ex ea commodo consequat. Duis aute irure dolor in reprehenderit in voluptate velit esse cillum dolore eu fugiat nulla pariatur. Excepteur sint occaecat cupidatat non proident, sunt in culpa qui officia deserunt mollit anim id est laborum.\n"
     ]
    }
   ],
   "source": [
    "# 115. Read the contents of test.txt and return the cursor to the beginning of the text.\n",
    "print(\"\\nExercise # 115\")\n",
    "f = open(\"./data/test115.txt\", \"r\")\n",
    "f.read()\n",
    "f.seek(0)\n",
    "print(\"Result:\",f.read())"
   ]
  },
  {
   "cell_type": "code",
   "execution_count": 11,
   "id": "d326bafb-5fbb-4d4e-8950-398bf3ec8b85",
   "metadata": {},
   "outputs": [
    {
     "name": "stdout",
     "output_type": "stream",
     "text": [
      "\n",
      "Exercise # 116\n",
      "Result: 7\n"
     ]
    }
   ],
   "source": [
    "# 116. Get current position of the cursor inside the text\n",
    "print(\"\\nExercise # 116\")\n",
    "f = open(\"./data/test116.txt\", \"r\")\n",
    "f.read(7)\n",
    "print(\"Result:\",f.tell())"
   ]
  },
  {
   "cell_type": "code",
   "execution_count": 5,
   "id": "41dc22a4-df33-47f8-a941-6d23f34bfbb3",
   "metadata": {},
   "outputs": [
    {
     "name": "stdout",
     "output_type": "stream",
     "text": [
      "\n",
      "Exercise # 117\n",
      "Result: r\n"
     ]
    }
   ],
   "source": [
    "# 117. Get the current mode in which the text is open (read, write, etc)\n",
    "print(\"\\nExercise # 117\")\n",
    "f = open(\"./data/test117.txt\", \"r\")\n",
    "# f.read(5)\n",
    "print(\"Result:\",f.mode)"
   ]
  },
  {
   "cell_type": "code",
   "execution_count": 12,
   "id": "95a62b10-a8fb-4401-9a77-f9f534adda1a",
   "metadata": {},
   "outputs": [
    {
     "name": "stdout",
     "output_type": "stream",
     "text": [
      "\n",
      "Exercise # 118\n",
      "Result: a+\n"
     ]
    }
   ],
   "source": [
    "# 118. Open the file for appending and reading at the same time\n",
    "print(\"\\nExercise # 118\")\n",
    "f = open(\"./data/test118.txt\", \"a+\")\n",
    "print(\"Result:\", f.mode)"
   ]
  },
  {
   "cell_type": "code",
   "execution_count": 13,
   "id": "75fb1b6a-5c80-44d1-ba53-11f3b54b6745",
   "metadata": {},
   "outputs": [
    {
     "name": "stdout",
     "output_type": "stream",
     "text": [
      "\n",
      "Exercise # 119\n",
      "Result: python\n"
     ]
    }
   ],
   "source": [
    "# 119. Write \"python\" to test.txt Note: Totally replaces existing text.\n",
    "print(\"\\nExercise # 119\")\n",
    "f=open(\"./data/test119.txt\", \"w\")\n",
    "f.write(\"python\")\n",
    "f.close()\n",
    "f=open(\"./data/test119.txt\", \"r\")\n",
    "print(\"Result:\", f.read())  "
   ]
  },
  {
   "cell_type": "code",
   "execution_count": 14,
   "id": "98bb3a46-e3de-45b3-927f-d4c562864cef",
   "metadata": {},
   "outputs": [
    {
     "name": "stdout",
     "output_type": "stream",
     "text": [
      "\n",
      "Exercise # 120\n",
      "Result: python and java\n"
     ]
    }
   ],
   "source": [
    "# 120.Write list of strings ['python',' ','and',' ', 'java'] to test120.txt. Note: Totally replaces existing text.\n",
    "print(\"\\nExercise # 120\")\n",
    "f=open(\"test120.txt\", \"w\")\n",
    "f.writelines(['python',' ','and',' ', 'java'])\n",
    "f.close()\n",
    "f=open(\"./data/test120.txt\", \"r\")\n",
    "print(\"Result:\", f.read())"
   ]
  },
  {
   "cell_type": "code",
   "execution_count": 15,
   "id": "d25ac1b7-b6b1-4db3-9b14-bdbd0d46a230",
   "metadata": {},
   "outputs": [
    {
     "name": "stdout",
     "output_type": "stream",
     "text": [
      "\n",
      "Exercise # 121\n",
      "Result: python\n"
     ]
    }
   ],
   "source": [
    "# 121.  Write \"python\" to test.txt Note: Totally replaces existing text\n",
    "print(\"\\nExercise # 121\")\n",
    "with open(\"./data/test121.txt\", \"w\") as f:\n",
    "    f.write('python')\n",
    "f=open(\"./data/test121.txt\", \"r\")\n",
    "print(\"Result:\", f.read())"
   ]
  },
  {
   "cell_type": "code",
   "execution_count": 16,
   "id": "11167a62-48ce-4680-b514-35eeb8b74b6d",
   "metadata": {},
   "outputs": [
    {
     "name": "stdout",
     "output_type": "stream",
     "text": [
      "\n",
      "Exercise # 122\n",
      "Result: \n"
     ]
    }
   ],
   "source": [
    "# 122.\n",
    "print(\"\\nExercise # 122\")\n",
    "with open(\"./data/test122.txt\", \"w\")as f:\n",
    "    f.write('python')\n",
    "f=open(\"./data/test122.txt\", \"r+\")\n",
    "f.truncate()\n",
    "f=open(\"./data/test122.txt\", \"r\")\n",
    "print(\"Result:\", f.read())"
   ]
  },
  {
   "cell_type": "code",
   "execution_count": null,
   "id": "3556f2cb-874e-4ded-a275-9c481816ba43",
   "metadata": {},
   "outputs": [],
   "source": []
  }
 ],
 "metadata": {
  "kernelspec": {
   "display_name": "Python 3 (ipykernel)",
   "language": "python",
   "name": "python3"
  },
  "language_info": {
   "codemirror_mode": {
    "name": "ipython",
    "version": 3
   },
   "file_extension": ".py",
   "mimetype": "text/x-python",
   "name": "python",
   "nbconvert_exporter": "python",
   "pygments_lexer": "ipython3",
   "version": "3.10.13"
  }
 },
 "nbformat": 4,
 "nbformat_minor": 5
}
