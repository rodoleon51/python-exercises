{
 "cells": [
  {
   "cell_type": "markdown",
   "id": "c7317c05-2712-4f36-ae65-6d0f704d5f09",
   "metadata": {},
   "source": [
    "## Dictionary(144-166)"
   ]
  },
  {
   "cell_type": "code",
   "execution_count": null,
   "id": "b7e22233-750a-4fd9-a6d7-533195bde287",
   "metadata": {},
   "outputs": [],
   "source": []
  }
 ],
 "metadata": {
  "kernelspec": {
   "display_name": "Python 3 (ipykernel)",
   "language": "python",
   "name": "python3"
  },
  "language_info": {
   "codemirror_mode": {
    "name": "ipython",
    "version": 3
   },
   "file_extension": ".py",
   "mimetype": "text/x-python",
   "name": "python",
   "nbconvert_exporter": "python",
   "pygments_lexer": "ipython3",
   "version": "3.10.13"
  }
 },
 "nbformat": 4,
 "nbformat_minor": 5
}
