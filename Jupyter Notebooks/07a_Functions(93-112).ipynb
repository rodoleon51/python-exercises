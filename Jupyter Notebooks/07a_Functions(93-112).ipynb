{
 "cells": [
  {
   "cell_type": "markdown",
   "id": "03eefa45-e3a1-4e03-8b5e-68b30e1c71a3",
   "metadata": {},
   "source": [
    "## 7a_Functions(93-112)"
   ]
  },
  {
   "cell_type": "code",
   "execution_count": 4,
   "id": "c197fbe9-60fa-4da9-9182-e055f3173fc2",
   "metadata": {},
   "outputs": [
    {
     "name": "stdout",
     "output_type": "stream",
     "text": [
      "Exercise # 93\n",
      "Hello Python!\n"
     ]
    }
   ],
   "source": [
    "# 93. Function to print \"Hello Python!\"\n",
    "print(\"Exercise # 93\")\n",
    "def my_func():\n",
    "    print(\"Hello Python!\") \n",
    "my_func()"
   ]
  },
  {
   "cell_type": "code",
   "execution_count": 5,
   "id": "773e8da7-8ffe-4a63-af3a-8f94d48a8dcd",
   "metadata": {},
   "outputs": [
    {
     "name": "stdout",
     "output_type": "stream",
     "text": [
      "Exercise # 94\n",
      "30\n"
     ]
    }
   ],
   "source": [
    "# 94.Function to add two numbers and print results\n",
    "print(\"Exercise # 94\")\n",
    "def my_func():\n",
    "    add = 10 + 20\n",
    "    print(add)\n",
    "my_func()"
   ]
  },
  {
   "cell_type": "code",
   "execution_count": 6,
   "id": "594589f3-2594-4c14-8da8-e668a0217a5d",
   "metadata": {},
   "outputs": [
    {
     "name": "stdout",
     "output_type": "stream",
     "text": [
      "Exercise # 95\n",
      "70\n"
     ]
    }
   ],
   "source": [
    "# 95. Function to multiply x * 10\n",
    "print(\"Exercise # 95\")\n",
    "def my_func(x):\n",
    "    return x * 10\n",
    "result = my_func(7)\n",
    "print(result)"
   ]
  },
  {
   "cell_type": "code",
   "execution_count": 7,
   "id": "e4ca3d48-1e7e-4cc3-8141-fac3b6808881",
   "metadata": {},
   "outputs": [
    {
     "name": "stdout",
     "output_type": "stream",
     "text": [
      "Exercise # 96\n",
      "2.0\n"
     ]
    }
   ],
   "source": [
    "# 96. Divide x by y\n",
    "print(\"Exercise # 96\")\n",
    "def my_func(x, y):\n",
    "    return x / y\n",
    "result = my_func(38, 19)\n",
    "print(result)"
   ]
  },
  {
   "cell_type": "code",
   "execution_count": 8,
   "id": "9b57c6a6-1e3c-4ef5-ab51-d352fcc3b9cd",
   "metadata": {},
   "outputs": [
    {
     "name": "stdout",
     "output_type": "stream",
     "text": [
      "Exercise # 97\n",
      "30\n"
     ]
    }
   ],
   "source": [
    "# 97. x ** y + z\n",
    "print(\"Exercise # 97\")\n",
    "def my_func(x, y, z):\n",
    "    return x ** y + z\n",
    "result = my_func(3,3,3)\n",
    "print(result)"
   ]
  },
  {
   "cell_type": "code",
   "execution_count": 9,
   "id": "beb6bc98-eba5-4d4c-88e2-4cf60466ea03",
   "metadata": {},
   "outputs": [
    {
     "name": "stdout",
     "output_type": "stream",
     "text": [
      "Exercise # 98\n",
      "[0, 2, 4, 6, 8]\n"
     ]
    }
   ],
   "source": [
    "# 98. \n",
    "print(\"Exercise # 98\")\n",
    "def my_func(x):\n",
    "    my_new_list = []\n",
    "    for i in range(5):\n",
    "        my_new_list.append(i * x)\n",
    "    return my_new_list   \n",
    "result = my_func(2)\n",
    "print(result)"
   ]
  },
  {
   "cell_type": "code",
   "execution_count": 11,
   "id": "1ec2495a-844d-4b6f-94d4-4489afc02db9",
   "metadata": {},
   "outputs": [
    {
     "name": "stdout",
     "output_type": "stream",
     "text": [
      "Exercise # 99\n",
      "EDCORNER LEARNING\n"
     ]
    }
   ],
   "source": [
    "# 99. Text to upper case\n",
    "print(\"Exercise # 99\")\n",
    "def my_func(x):\n",
    "    return x.upper()\n",
    "result = my_func(\"Edcorner Learning\")\n",
    "print(result)"
   ]
  },
  {
   "cell_type": "code",
   "execution_count": 12,
   "id": "75d78706-4f44-4498-b711-54bce2f37906",
   "metadata": {},
   "outputs": [
    {
     "name": "stdout",
     "output_type": "stream",
     "text": [
      "Exercise # 100\n",
      "[11, 12, 13, 15, 16, 18, 20, 22]\n"
     ]
    }
   ],
   "source": [
    "# 100. Divide x by y\n",
    "print(\"Exercise # 100\")\n",
    "def my_func(x):\n",
    "    return list(set(x))\n",
    "result = my_func([11, 12, 13, 11, 15, 18, 18, 22, 20, 16, 12])\n",
    "print(result)"
   ]
  },
  {
   "cell_type": "code",
   "execution_count": 14,
   "id": "07963c86-04a8-4085-bb00-88f59d583233",
   "metadata": {},
   "outputs": [
    {
     "name": "stdout",
     "output_type": "stream",
     "text": [
      "Exercise # 101\n",
      "[25, 36, 64, 81]\n"
     ]
    }
   ],
   "source": [
    "# 101. \n",
    "print(\"Exercise # 101\")\n",
    "def my_func(x):\n",
    "    my_new_list = []\n",
    "    for i in x:\n",
    "        if i > 4:\n",
    "            my_new_list.append(i ** 2)\n",
    "    return my_new_list        \n",
    "result = my_func((2, 3, 5, 6, 4, 8, 9))\n",
    "print(result)"
   ]
  },
  {
   "cell_type": "code",
   "execution_count": 16,
   "id": "edec3768-e63a-4c64-bc44-718e65afd5bd",
   "metadata": {},
   "outputs": [
    {
     "name": "stdout",
     "output_type": "stream",
     "text": [
      "Exercise # 102\n",
      "49\n"
     ]
    }
   ],
   "source": [
    "# 102. \n",
    "print(\"Exercise # 102\")\n",
    "def my_func(x):\n",
    "    # Option 1    \n",
    "    return len(x) * sorted(x.keys())[-1]\n",
    "    # Option 2\n",
    "    #return len(x) * max(x.keys())                     \n",
    "result = my_func({1:3, 2:3, 4:5, 5:9, 6:8, 3:7, 7:0})\n",
    "print(result)"
   ]
  },
  {
   "cell_type": "code",
   "execution_count": 17,
   "id": "31b725cd-3c14-4a97-9dcc-1f1da220e24d",
   "metadata": {},
   "outputs": [
    {
     "name": "stdout",
     "output_type": "stream",
     "text": [
      "Exercise # 103\n",
      "50\n"
     ]
    }
   ],
   "source": [
    "# 103. \n",
    "print(\"Exercise # 103\")\n",
    "def my_func(x, y = 10):\n",
    "    return (x * y)\n",
    "result = my_func(5)\n",
    "print(result)"
   ]
  },
  {
   "cell_type": "code",
   "execution_count": 19,
   "id": "8781dd0e-97c6-418b-b1ef-6ac6dfa48690",
   "metadata": {},
   "outputs": [
    {
     "name": "stdout",
     "output_type": "stream",
     "text": [
      "Exercise # 104\n",
      "350\n"
     ]
    }
   ],
   "source": [
    "# 104\n",
    "print(\"Exercise # 104\")\n",
    "def my_func(x, y = 100, z = 200):\n",
    "    return( x + y + z)\n",
    "result = my_func(50)\n",
    "print(result)"
   ]
  },
  {
   "cell_type": "code",
   "execution_count": 20,
   "id": "ed988feb-16b7-4c0f-823a-d6a57b44088b",
   "metadata": {},
   "outputs": [
    {
     "name": "stdout",
     "output_type": "stream",
     "text": [
      "Exercise # 105\n",
      "10\n"
     ]
    }
   ],
   "source": [
    "# 105 Return x postioned at y\n",
    "print(\"Exercise # 105\")\n",
    "def my_func(x, y):\n",
    "    return x[y]\n",
    "result = my_func(list(range(2, 25, 2)), 4) \n",
    "print(result)"
   ]
  },
  {
   "cell_type": "code",
   "execution_count": 21,
   "id": "acf961e9-3188-48b2-b19c-c8b189b30009",
   "metadata": {},
   "outputs": [
    {
     "name": "stdout",
     "output_type": "stream",
     "text": [
      "Exercise # 106\n",
      "100\n"
     ]
    }
   ],
   "source": [
    "# 106. \n",
    "print(\"Exercise # 106\")\n",
    "def my_func(x,*args):\n",
    "    return x * args[1]\n",
    "result = my_func(5, 10, 20, 30, 50)\n",
    "print(result)"
   ]
  },
  {
   "cell_type": "code",
   "execution_count": 22,
   "id": "dcbb3e4f-8bd0-4feb-830f-4bc9bf9587e0",
   "metadata": {},
   "outputs": [
    {
     "name": "stdout",
     "output_type": "stream",
     "text": [
      "Exercise # 107\n",
      "300\n"
     ]
    }
   ],
   "source": [
    "# 107.\n",
    "print(\"Exercise # 107\")\n",
    "def my_func(x, **kwargs):\n",
    "    return x * max(kwargs.values())\n",
    "result = my_func(10, val1 = 10, val2 = 15, val3 = 20, val4 = 25, val5 = 30)\n",
    "print(result)"
   ]
  },
  {
   "cell_type": "code",
   "execution_count": 23,
   "id": "1ce21799-00a9-4910-b10c-83e99528536b",
   "metadata": {},
   "outputs": [
    {
     "name": "stdout",
     "output_type": "stream",
     "text": [
      "Exercise # 108\n",
      "200\n"
     ]
    }
   ],
   "source": [
    "# 108.\n",
    "print(\"Exercise # 108\")\n",
    "var = 10\n",
    "def my_func(x):\n",
    "    print( x * var) \n",
    "my_func(20)"
   ]
  },
  {
   "cell_type": "code",
   "execution_count": null,
   "id": "cfea6d14-e186-4262-ba52-e6465c02470e",
   "metadata": {},
   "outputs": [],
   "source": [
    "# 109. \n",
    "print(\"Exercise # 109\")\n",
    "var = 10\n",
    "def my_func(x):\n",
    "    var = 5\n",
    "    print( x * var) \n",
    "my_func(20)"
   ]
  },
  {
   "cell_type": "code",
   "execution_count": 24,
   "id": "0a75e242-e447-49c7-bede-001a88c00b25",
   "metadata": {},
   "outputs": [
    {
     "name": "stdout",
     "output_type": "stream",
     "text": [
      "Exercise # 110\n",
      "120\n"
     ]
    }
   ],
   "source": [
    "# 110.\n",
    "print(\"Exercise # 110\")\n",
    "var = 12\n",
    "def my_func(x):\n",
    "    print(x * var)\n",
    "my_func(10)"
   ]
  },
  {
   "cell_type": "code",
   "execution_count": 25,
   "id": "e56f8d1a-48ed-4b49-a5b2-93ee7a7729ee",
   "metadata": {},
   "outputs": [
    {
     "name": "stdout",
     "output_type": "stream",
     "text": [
      "\n",
      "Exercise # 111\n",
      "80\n"
     ]
    }
   ],
   "source": [
    "# 111.\n",
    "print(\"\\nExercise # 111\")\n",
    "var = 8\n",
    "def my_func(x):\n",
    "    global var\n",
    "    print(x * var)\n",
    "    var = 12\n",
    "my_func(10)"
   ]
  },
  {
   "cell_type": "code",
   "execution_count": 26,
   "id": "7d931970-db3c-4a0a-a800-b80c2bd074b2",
   "metadata": {},
   "outputs": [
    {
     "name": "stdout",
     "output_type": "stream",
     "text": [
      "Exercise # 112\n",
      "3.1416\n"
     ]
    }
   ],
   "source": [
    "# 112.\n",
    "print(\"Exercise # 112\")\n",
    "from math import pi\n",
    "print(\"%.4f\" % pi)"
   ]
  },
  {
   "cell_type": "code",
   "execution_count": null,
   "id": "9f51a1b9-8615-4fc2-a21b-f7748ce87a21",
   "metadata": {},
   "outputs": [],
   "source": []
  }
 ],
 "metadata": {
  "kernelspec": {
   "display_name": "Python 3 (ipykernel)",
   "language": "python",
   "name": "python3"
  },
  "language_info": {
   "codemirror_mode": {
    "name": "ipython",
    "version": 3
   },
   "file_extension": ".py",
   "mimetype": "text/x-python",
   "name": "python",
   "nbconvert_exporter": "python",
   "pygments_lexer": "ipython3",
   "version": "3.10.13"
  }
 },
 "nbformat": 4,
 "nbformat_minor": 5
}
