{
 "cells": [
  {
   "cell_type": "markdown",
   "id": "d2752644-885c-49aa-8fc8-f30a43640e7d",
   "metadata": {},
   "source": [
    "## Strings(127-143)"
   ]
  },
  {
   "cell_type": "code",
   "execution_count": null,
   "id": "f87597b4-65cf-439c-94b6-cde4668d6f66",
   "metadata": {},
   "outputs": [],
   "source": []
  }
 ],
 "metadata": {
  "kernelspec": {
   "display_name": "Python 3 (ipykernel)",
   "language": "python",
   "name": "python3"
  },
  "language_info": {
   "codemirror_mode": {
    "name": "ipython",
    "version": 3
   },
   "file_extension": ".py",
   "mimetype": "text/x-python",
   "name": "python",
   "nbconvert_exporter": "python",
   "pygments_lexer": "ipython3",
   "version": "3.10.13"
  }
 },
 "nbformat": 4,
 "nbformat_minor": 5
}
